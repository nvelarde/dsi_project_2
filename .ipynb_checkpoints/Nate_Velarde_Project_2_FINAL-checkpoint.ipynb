{
 "cells": [
  {
   "cell_type": "markdown",
   "metadata": {},
   "source": [
    "# Project 2:  Lucid Titanic Sleuthing"
   ]
  },
  {
   "cell_type": "markdown",
   "metadata": {},
   "source": [
    "## Part 1: Developing an understanding of the data"
   ]
  },
  {
   "cell_type": "markdown",
   "metadata": {},
   "source": [
    "#### Based on the description of the data you read in the readme describe in your own words this data."
   ]
  },
  {
   "cell_type": "markdown",
   "metadata": {
    "collapsed": true
   },
   "source": [
    "This is a dataset that contains the passenger manifest of the Titanic.  The data contains demographic data on the passengers that includes columns for name, age, sex, passenger class (a proxy for socio-economic status) and whether or not the passenger was travelling alone or in a group (family) and whether or not the passenger survived.  Other data includes: point of embarkation, home destination, cabin, ticket number, fare paid and whether or not a body was recovered if the passenger did not survive.  We will examine age, sex, passenger class and group status to see how differences in these statistics accounted for differences in survival rates.\n"
   ]
  },
  {
   "cell_type": "markdown",
   "metadata": {},
   "source": [
    "#### Based on our conceptual understanding of the columns in this data set.  What are the reasonable range of the values for the Sex, Age, SibSp, Parch columns."
   ]
  },
  {
   "cell_type": "markdown",
   "metadata": {
    "collapsed": true
   },
   "source": [
    "The 'Sex\" column should be limited to two values or categories - 'Male' and 'Female'.  Expect 'Age' to range from less than one year old (infants) to the very eldery (70-80).  'SibSp' and 'Parch' should have similar value ranges -- from 0, indicating a person travelling alone to up to 10 depending on family size (parents + number of siblings)."
   ]
  },
  {
   "cell_type": "markdown",
   "metadata": {},
   "source": [
    "### Open the data in sublime text is there anything that jumps out to you?"
   ]
  },
  {
   "cell_type": "markdown",
   "metadata": {
    "collapsed": true
   },
   "source": [
    "Certain columns like 'age' and 'body' had numerous missing values.  Data is relatively clean relative to other data sets like Lusitania.  "
   ]
  },
  {
   "cell_type": "markdown",
   "metadata": {},
   "source": [
    "## Part 2: reading the data in"
   ]
  },
  {
   "cell_type": "markdown",
   "metadata": {},
   "source": [
    "#### Now read the data into a Pandas DataFrame"
   ]
  },
  {
   "cell_type": "code",
   "execution_count": 1,
   "metadata": {
    "collapsed": false
   },
   "outputs": [
    {
     "data": {
      "text/html": [
       "<div>\n",
       "<table border=\"1\" class=\"dataframe\">\n",
       "  <thead>\n",
       "    <tr style=\"text-align: right;\">\n",
       "      <th></th>\n",
       "      <th>pclass</th>\n",
       "      <th>survived</th>\n",
       "      <th>name</th>\n",
       "      <th>sex</th>\n",
       "      <th>age</th>\n",
       "      <th>sibsp</th>\n",
       "      <th>parch</th>\n",
       "      <th>ticket</th>\n",
       "      <th>fare</th>\n",
       "      <th>cabin</th>\n",
       "      <th>embarked</th>\n",
       "      <th>boat</th>\n",
       "      <th>body</th>\n",
       "      <th>home.dest</th>\n",
       "    </tr>\n",
       "  </thead>\n",
       "  <tbody>\n",
       "    <tr>\n",
       "      <th>0</th>\n",
       "      <td>1</td>\n",
       "      <td>1</td>\n",
       "      <td>Allen, Miss. Elisabeth Walton</td>\n",
       "      <td>female</td>\n",
       "      <td>29.00</td>\n",
       "      <td>0</td>\n",
       "      <td>0</td>\n",
       "      <td>24160</td>\n",
       "      <td>211.3375</td>\n",
       "      <td>B5</td>\n",
       "      <td>S</td>\n",
       "      <td>2</td>\n",
       "      <td>NaN</td>\n",
       "      <td>St Louis, MO</td>\n",
       "    </tr>\n",
       "    <tr>\n",
       "      <th>1</th>\n",
       "      <td>1</td>\n",
       "      <td>1</td>\n",
       "      <td>Allison, Master. Hudson Trevor</td>\n",
       "      <td>male</td>\n",
       "      <td>0.92</td>\n",
       "      <td>1</td>\n",
       "      <td>2</td>\n",
       "      <td>113781</td>\n",
       "      <td>151.5500</td>\n",
       "      <td>C22 C26</td>\n",
       "      <td>S</td>\n",
       "      <td>11</td>\n",
       "      <td>NaN</td>\n",
       "      <td>Montreal, PQ / Chesterville, ON</td>\n",
       "    </tr>\n",
       "    <tr>\n",
       "      <th>2</th>\n",
       "      <td>1</td>\n",
       "      <td>0</td>\n",
       "      <td>Allison, Miss. Helen Loraine</td>\n",
       "      <td>female</td>\n",
       "      <td>2.00</td>\n",
       "      <td>1</td>\n",
       "      <td>2</td>\n",
       "      <td>113781</td>\n",
       "      <td>151.5500</td>\n",
       "      <td>C22 C26</td>\n",
       "      <td>S</td>\n",
       "      <td>NaN</td>\n",
       "      <td>NaN</td>\n",
       "      <td>Montreal, PQ / Chesterville, ON</td>\n",
       "    </tr>\n",
       "    <tr>\n",
       "      <th>3</th>\n",
       "      <td>1</td>\n",
       "      <td>0</td>\n",
       "      <td>Allison, Mr. Hudson Joshua Creighton</td>\n",
       "      <td>male</td>\n",
       "      <td>30.00</td>\n",
       "      <td>1</td>\n",
       "      <td>2</td>\n",
       "      <td>113781</td>\n",
       "      <td>151.5500</td>\n",
       "      <td>C22 C26</td>\n",
       "      <td>S</td>\n",
       "      <td>NaN</td>\n",
       "      <td>135.0</td>\n",
       "      <td>Montreal, PQ / Chesterville, ON</td>\n",
       "    </tr>\n",
       "    <tr>\n",
       "      <th>4</th>\n",
       "      <td>1</td>\n",
       "      <td>0</td>\n",
       "      <td>Allison, Mrs. Hudson J C (Bessie Waldo Daniels)</td>\n",
       "      <td>female</td>\n",
       "      <td>25.00</td>\n",
       "      <td>1</td>\n",
       "      <td>2</td>\n",
       "      <td>113781</td>\n",
       "      <td>151.5500</td>\n",
       "      <td>C22 C26</td>\n",
       "      <td>S</td>\n",
       "      <td>NaN</td>\n",
       "      <td>NaN</td>\n",
       "      <td>Montreal, PQ / Chesterville, ON</td>\n",
       "    </tr>\n",
       "  </tbody>\n",
       "</table>\n",
       "</div>"
      ],
      "text/plain": [
       "   pclass  survived                                             name     sex  \\\n",
       "0       1         1                    Allen, Miss. Elisabeth Walton  female   \n",
       "1       1         1                   Allison, Master. Hudson Trevor    male   \n",
       "2       1         0                     Allison, Miss. Helen Loraine  female   \n",
       "3       1         0             Allison, Mr. Hudson Joshua Creighton    male   \n",
       "4       1         0  Allison, Mrs. Hudson J C (Bessie Waldo Daniels)  female   \n",
       "\n",
       "     age  sibsp  parch  ticket      fare    cabin embarked boat   body  \\\n",
       "0  29.00      0      0   24160  211.3375       B5        S    2    NaN   \n",
       "1   0.92      1      2  113781  151.5500  C22 C26        S   11    NaN   \n",
       "2   2.00      1      2  113781  151.5500  C22 C26        S  NaN    NaN   \n",
       "3  30.00      1      2  113781  151.5500  C22 C26        S  NaN  135.0   \n",
       "4  25.00      1      2  113781  151.5500  C22 C26        S  NaN    NaN   \n",
       "\n",
       "                         home.dest  \n",
       "0                     St Louis, MO  \n",
       "1  Montreal, PQ / Chesterville, ON  \n",
       "2  Montreal, PQ / Chesterville, ON  \n",
       "3  Montreal, PQ / Chesterville, ON  \n",
       "4  Montreal, PQ / Chesterville, ON  "
      ]
     },
     "execution_count": 1,
     "metadata": {},
     "output_type": "execute_result"
    }
   ],
   "source": [
    "import pandas as pd\n",
    "import numpy as np\n",
    "titanic_data_location = '/Users/nate_velarde/dsi/dsi_workspace/dsi_project_2/titanic.csv'\n",
    "titanic_df = pd.read_csv(titanic_data_location)\n",
    "titanic_df.head()"
   ]
  },
  {
   "cell_type": "markdown",
   "metadata": {},
   "source": [
    "#### Check that the age column doesn't have any unreasonable values "
   ]
  },
  {
   "cell_type": "markdown",
   "metadata": {},
   "source": [
    "Taking a look at summary statistics for each column"
   ]
  },
  {
   "cell_type": "code",
   "execution_count": 67,
   "metadata": {
    "collapsed": false
   },
   "outputs": [
    {
     "data": {
      "text/html": [
       "<div>\n",
       "<table border=\"1\" class=\"dataframe\">\n",
       "  <thead>\n",
       "    <tr style=\"text-align: right;\">\n",
       "      <th></th>\n",
       "      <th>pclass</th>\n",
       "      <th>survived</th>\n",
       "      <th>age</th>\n",
       "      <th>sibsp</th>\n",
       "      <th>parch</th>\n",
       "      <th>fare</th>\n",
       "      <th>body</th>\n",
       "    </tr>\n",
       "  </thead>\n",
       "  <tbody>\n",
       "    <tr>\n",
       "      <th>count</th>\n",
       "      <td>1309.000000</td>\n",
       "      <td>1309.000000</td>\n",
       "      <td>1309.000000</td>\n",
       "      <td>1309.000000</td>\n",
       "      <td>1309.000000</td>\n",
       "      <td>1308.000000</td>\n",
       "      <td>121.000000</td>\n",
       "    </tr>\n",
       "    <tr>\n",
       "      <th>mean</th>\n",
       "      <td>2.294882</td>\n",
       "      <td>0.381971</td>\n",
       "      <td>29.503186</td>\n",
       "      <td>0.498854</td>\n",
       "      <td>0.385027</td>\n",
       "      <td>33.295479</td>\n",
       "      <td>160.809917</td>\n",
       "    </tr>\n",
       "    <tr>\n",
       "      <th>std</th>\n",
       "      <td>0.837836</td>\n",
       "      <td>0.486055</td>\n",
       "      <td>12.905241</td>\n",
       "      <td>1.041658</td>\n",
       "      <td>0.865560</td>\n",
       "      <td>51.758668</td>\n",
       "      <td>97.696922</td>\n",
       "    </tr>\n",
       "    <tr>\n",
       "      <th>min</th>\n",
       "      <td>1.000000</td>\n",
       "      <td>0.000000</td>\n",
       "      <td>0.170000</td>\n",
       "      <td>0.000000</td>\n",
       "      <td>0.000000</td>\n",
       "      <td>0.000000</td>\n",
       "      <td>1.000000</td>\n",
       "    </tr>\n",
       "    <tr>\n",
       "      <th>25%</th>\n",
       "      <td>2.000000</td>\n",
       "      <td>0.000000</td>\n",
       "      <td>22.000000</td>\n",
       "      <td>0.000000</td>\n",
       "      <td>0.000000</td>\n",
       "      <td>NaN</td>\n",
       "      <td>NaN</td>\n",
       "    </tr>\n",
       "    <tr>\n",
       "      <th>50%</th>\n",
       "      <td>3.000000</td>\n",
       "      <td>0.000000</td>\n",
       "      <td>28.000000</td>\n",
       "      <td>0.000000</td>\n",
       "      <td>0.000000</td>\n",
       "      <td>NaN</td>\n",
       "      <td>NaN</td>\n",
       "    </tr>\n",
       "    <tr>\n",
       "      <th>75%</th>\n",
       "      <td>3.000000</td>\n",
       "      <td>1.000000</td>\n",
       "      <td>35.000000</td>\n",
       "      <td>1.000000</td>\n",
       "      <td>0.000000</td>\n",
       "      <td>NaN</td>\n",
       "      <td>NaN</td>\n",
       "    </tr>\n",
       "    <tr>\n",
       "      <th>max</th>\n",
       "      <td>3.000000</td>\n",
       "      <td>1.000000</td>\n",
       "      <td>80.000000</td>\n",
       "      <td>8.000000</td>\n",
       "      <td>9.000000</td>\n",
       "      <td>512.329200</td>\n",
       "      <td>328.000000</td>\n",
       "    </tr>\n",
       "  </tbody>\n",
       "</table>\n",
       "</div>"
      ],
      "text/plain": [
       "            pclass     survived          age        sibsp        parch  \\\n",
       "count  1309.000000  1309.000000  1309.000000  1309.000000  1309.000000   \n",
       "mean      2.294882     0.381971    29.503186     0.498854     0.385027   \n",
       "std       0.837836     0.486055    12.905241     1.041658     0.865560   \n",
       "min       1.000000     0.000000     0.170000     0.000000     0.000000   \n",
       "25%       2.000000     0.000000    22.000000     0.000000     0.000000   \n",
       "50%       3.000000     0.000000    28.000000     0.000000     0.000000   \n",
       "75%       3.000000     1.000000    35.000000     1.000000     0.000000   \n",
       "max       3.000000     1.000000    80.000000     8.000000     9.000000   \n",
       "\n",
       "              fare        body  \n",
       "count  1308.000000  121.000000  \n",
       "mean     33.295479  160.809917  \n",
       "std      51.758668   97.696922  \n",
       "min       0.000000    1.000000  \n",
       "25%            NaN         NaN  \n",
       "50%            NaN         NaN  \n",
       "75%            NaN         NaN  \n",
       "max     512.329200  328.000000  "
      ]
     },
     "execution_count": 67,
     "metadata": {},
     "output_type": "execute_result"
    }
   ],
   "source": [
    "titanic_df.describe()"
   ]
  },
  {
   "cell_type": "markdown",
   "metadata": {},
   "source": [
    "In addition to using df.describe() to get a sense of the overall data set, also looked at df.info() and df.types().  From the df.describe() output ('count) row, can see that the total number of passengers was 1309.  Drilling specifically into the 'age' column, see that it has a non-null 'count' of 1046 -- there are 263 passengers whose age was not known.  The range of passenger ages where data was available ranged from 0.17 years (~2 months) to 80, with a mean age of 29.9 and standard deviation of 14.4.  This age range is reasonable in the context of the lifespan of humnans.  It would make sense that a passenger liner would be carrying passengers of all ages."
   ]
  },
  {
   "cell_type": "code",
   "execution_count": 3,
   "metadata": {
    "collapsed": false
   },
   "outputs": [
    {
     "name": "stdout",
     "output_type": "stream",
     "text": [
      "<class 'pandas.core.frame.DataFrame'>\n",
      "RangeIndex: 1309 entries, 0 to 1308\n",
      "Data columns (total 14 columns):\n",
      "pclass       1309 non-null int64\n",
      "survived     1309 non-null int64\n",
      "name         1309 non-null object\n",
      "sex          1309 non-null object\n",
      "age          1046 non-null float64\n",
      "sibsp        1309 non-null int64\n",
      "parch        1309 non-null int64\n",
      "ticket       1309 non-null object\n",
      "fare         1308 non-null float64\n",
      "cabin        295 non-null object\n",
      "embarked     1307 non-null object\n",
      "boat         486 non-null object\n",
      "body         121 non-null float64\n",
      "home.dest    745 non-null object\n",
      "dtypes: float64(3), int64(4), object(7)\n",
      "memory usage: 143.2+ KB\n"
     ]
    }
   ],
   "source": [
    "titanic_df.info()"
   ]
  },
  {
   "cell_type": "code",
   "execution_count": 4,
   "metadata": {
    "collapsed": false
   },
   "outputs": [
    {
     "data": {
      "text/plain": [
       "pclass         int64\n",
       "survived       int64\n",
       "name          object\n",
       "sex           object\n",
       "age          float64\n",
       "sibsp          int64\n",
       "parch          int64\n",
       "ticket        object\n",
       "fare         float64\n",
       "cabin         object\n",
       "embarked      object\n",
       "boat          object\n",
       "body         float64\n",
       "home.dest     object\n",
       "dtype: object"
      ]
     },
     "execution_count": 4,
     "metadata": {},
     "output_type": "execute_result"
    }
   ],
   "source": [
    "titanic_df.dtypes"
   ]
  },
  {
   "cell_type": "markdown",
   "metadata": {},
   "source": [
    "#### Check for missing values.  How do you know that a value is missing?"
   ]
  },
  {
   "cell_type": "markdown",
   "metadata": {},
   "source": [
    "From the discussion above, we can determine that 263 passengers did not have values for 'age'.  We determined this by comparing the 1046 non-null entries for 'age' versus 1309 entries (rows) for the data frame -- 'pclass' had no missing values as it had 1309 non-null values according to the .info() output.  Can also confirm visually of missing values by looking for NaNs when you print out the data frame or portion of a data frame (.head()).  In addition to 'age', 'cabin', 'embarked', 'boat', 'body', 'home.dest' and 'fare' columns had missing values."
   ]
  },
  {
   "cell_type": "code",
   "execution_count": 5,
   "metadata": {
    "collapsed": false
   },
   "outputs": [
    {
     "data": {
      "text/plain": [
       "array([ 29.  ,   0.92,   2.  ,  30.  ,  25.  ,  48.  ,  63.  ,  39.  ,\n",
       "        53.  ,  71.  ,  47.  ,  18.  ,  24.  ,  26.  ,  80.  ,    nan,\n",
       "        50.  ,  32.  ,  36.  ,  37.  ,  42.  ,  19.  ,  35.  ,  28.  ,\n",
       "        45.  ,  40.  ,  58.  ,  22.  ,  41.  ,  44.  ,  59.  ,  60.  ,\n",
       "        33.  ,  17.  ,  11.  ,  14.  ,  49.  ,  76.  ,  46.  ,  27.  ,\n",
       "        64.  ,  55.  ,  70.  ,  38.  ,  51.  ,  31.  ,   4.  ,  54.  ,\n",
       "        23.  ,  43.  ,  52.  ,  16.  ,  32.5 ,  21.  ,  15.  ,  65.  ,\n",
       "        28.5 ,  45.5 ,  56.  ,  13.  ,  61.  ,  34.  ,   6.  ,  57.  ,\n",
       "        62.  ,  67.  ,   1.  ,  12.  ,  20.  ,   0.83,   8.  ,   0.67,\n",
       "         7.  ,   3.  ,  36.5 ,  18.5 ,   5.  ,  66.  ,   9.  ,   0.75,\n",
       "        70.5 ,  22.5 ,   0.33,   0.17,  40.5 ,  10.  ,  23.5 ,  34.5 ,\n",
       "        20.5 ,  30.5 ,  55.5 ,  38.5 ,  14.5 ,  24.5 ,  60.5 ,  74.  ,\n",
       "         0.42,  11.5 ,  26.5 ])"
      ]
     },
     "execution_count": 5,
     "metadata": {},
     "output_type": "execute_result"
    }
   ],
   "source": [
    "titanic_df['age'].unique()"
   ]
  },
  {
   "cell_type": "markdown",
   "metadata": {},
   "source": [
    "#### Does it makes sense to guess at the value?"
   ]
  },
  {
   "cell_type": "markdown",
   "metadata": {},
   "source": [
    "Our options in dealing with missing values are: (a) delete the row, (b) replace the NaN's with the mean, median or mode or (c) replace with 0 (for numerical data).  Of these, option (b) is the best for the 'age' column given that we do not want to lose information on other factors that may have influenced survival on 263 passengers (~20% of the overall data set)."
   ]
  },
  {
   "cell_type": "markdown",
   "metadata": {},
   "source": [
    "## Part 3: data imputation"
   ]
  },
  {
   "cell_type": "markdown",
   "metadata": {},
   "source": [
    "#### Well let’s say that it does... You likely noticed that Age has some missing values. How many are missing?"
   ]
  },
  {
   "cell_type": "markdown",
   "metadata": {},
   "source": [
    "From our discussion above, 263.  Can also find the number of nulls directly by:"
   ]
  },
  {
   "cell_type": "code",
   "execution_count": 6,
   "metadata": {
    "collapsed": false
   },
   "outputs": [
    {
     "data": {
      "text/plain": [
       "263"
      ]
     },
     "execution_count": 6,
     "metadata": {},
     "output_type": "execute_result"
    }
   ],
   "source": [
    "titanic_df['age'].isnull().sum()"
   ]
  },
  {
   "cell_type": "markdown",
   "metadata": {},
   "source": [
    "#### For the Age of the passangers ... how would you guess at the missing values using the other data present in the CSV."
   ]
  },
  {
   "cell_type": "markdown",
   "metadata": {},
   "source": [
    "Implementing option (b) discussed above.  As a reasonableness test, going to look at differences in mean and median for the passengers (overall and by Sex) and decide which one to use to replace the NaNs."
   ]
  },
  {
   "cell_type": "markdown",
   "metadata": {},
   "source": [
    "'age' Mean"
   ]
  },
  {
   "cell_type": "code",
   "execution_count": 7,
   "metadata": {
    "collapsed": false
   },
   "outputs": [
    {
     "name": "stdout",
     "output_type": "stream",
     "text": [
      "Passenger mean age:  29.8811376673\n",
      "\n",
      "Female mean age  28.6870876289\n",
      "\n",
      "Male mean age  30.5852279635\n"
     ]
    }
   ],
   "source": [
    "print \"Passenger mean age: \", titanic_df['age'].mean()\n",
    "print \"\"\n",
    "print \"Female mean age \", titanic_df['age'][titanic_df['sex'] == 'female'].mean()\n",
    "print \"\"\n",
    "print \"Male mean age \", titanic_df['age'][titanic_df['sex'] == 'male'].mean()"
   ]
  },
  {
   "cell_type": "markdown",
   "metadata": {},
   "source": [
    "'age' Median"
   ]
  },
  {
   "cell_type": "code",
   "execution_count": 8,
   "metadata": {
    "collapsed": false
   },
   "outputs": [
    {
     "name": "stdout",
     "output_type": "stream",
     "text": [
      "Passenger median age:  28.0\n",
      "\n",
      "Female median age  27.0\n",
      "\n",
      "Male median age  28.0\n"
     ]
    }
   ],
   "source": [
    "print \"Passenger median age: \", titanic_df['age'].median()\n",
    "print \"\"\n",
    "print \"Female median age \", titanic_df['age'][titanic_df['sex'] == 'female'].median()\n",
    "print \"\"\n",
    "print \"Male median age \", titanic_df['age'][titanic_df['sex'] == 'male'].median()"
   ]
  },
  {
   "cell_type": "markdown",
   "metadata": {},
   "source": [
    "Given the output, using a median would be a reasonable replacement for the missing 'age' values."
   ]
  },
  {
   "cell_type": "code",
   "execution_count": 9,
   "metadata": {
    "collapsed": false
   },
   "outputs": [
    {
     "name": "stdout",
     "output_type": "stream",
     "text": [
      "28.0\n"
     ]
    }
   ],
   "source": [
    "age_null_replacement = titanic_df['age'].median()\n",
    "print age_null_replacement"
   ]
  },
  {
   "cell_type": "code",
   "execution_count": 10,
   "metadata": {
    "collapsed": false
   },
   "outputs": [
    {
     "data": {
      "text/html": [
       "<div>\n",
       "<table border=\"1\" class=\"dataframe\">\n",
       "  <thead>\n",
       "    <tr style=\"text-align: right;\">\n",
       "      <th></th>\n",
       "      <th>pclass</th>\n",
       "      <th>survived</th>\n",
       "      <th>name</th>\n",
       "      <th>sex</th>\n",
       "      <th>age</th>\n",
       "      <th>sibsp</th>\n",
       "      <th>parch</th>\n",
       "      <th>ticket</th>\n",
       "      <th>fare</th>\n",
       "      <th>cabin</th>\n",
       "      <th>embarked</th>\n",
       "      <th>boat</th>\n",
       "      <th>body</th>\n",
       "      <th>home.dest</th>\n",
       "    </tr>\n",
       "  </thead>\n",
       "  <tbody>\n",
       "    <tr>\n",
       "      <th>0</th>\n",
       "      <td>1</td>\n",
       "      <td>1</td>\n",
       "      <td>Allen, Miss. Elisabeth Walton</td>\n",
       "      <td>female</td>\n",
       "      <td>29.00</td>\n",
       "      <td>0</td>\n",
       "      <td>0</td>\n",
       "      <td>24160</td>\n",
       "      <td>211.3375</td>\n",
       "      <td>B5</td>\n",
       "      <td>S</td>\n",
       "      <td>2</td>\n",
       "      <td>NaN</td>\n",
       "      <td>St Louis, MO</td>\n",
       "    </tr>\n",
       "    <tr>\n",
       "      <th>1</th>\n",
       "      <td>1</td>\n",
       "      <td>1</td>\n",
       "      <td>Allison, Master. Hudson Trevor</td>\n",
       "      <td>male</td>\n",
       "      <td>0.92</td>\n",
       "      <td>1</td>\n",
       "      <td>2</td>\n",
       "      <td>113781</td>\n",
       "      <td>151.5500</td>\n",
       "      <td>C22 C26</td>\n",
       "      <td>S</td>\n",
       "      <td>11</td>\n",
       "      <td>NaN</td>\n",
       "      <td>Montreal, PQ / Chesterville, ON</td>\n",
       "    </tr>\n",
       "    <tr>\n",
       "      <th>2</th>\n",
       "      <td>1</td>\n",
       "      <td>0</td>\n",
       "      <td>Allison, Miss. Helen Loraine</td>\n",
       "      <td>female</td>\n",
       "      <td>2.00</td>\n",
       "      <td>1</td>\n",
       "      <td>2</td>\n",
       "      <td>113781</td>\n",
       "      <td>151.5500</td>\n",
       "      <td>C22 C26</td>\n",
       "      <td>S</td>\n",
       "      <td>NaN</td>\n",
       "      <td>NaN</td>\n",
       "      <td>Montreal, PQ / Chesterville, ON</td>\n",
       "    </tr>\n",
       "    <tr>\n",
       "      <th>3</th>\n",
       "      <td>1</td>\n",
       "      <td>0</td>\n",
       "      <td>Allison, Mr. Hudson Joshua Creighton</td>\n",
       "      <td>male</td>\n",
       "      <td>30.00</td>\n",
       "      <td>1</td>\n",
       "      <td>2</td>\n",
       "      <td>113781</td>\n",
       "      <td>151.5500</td>\n",
       "      <td>C22 C26</td>\n",
       "      <td>S</td>\n",
       "      <td>NaN</td>\n",
       "      <td>135.0</td>\n",
       "      <td>Montreal, PQ / Chesterville, ON</td>\n",
       "    </tr>\n",
       "    <tr>\n",
       "      <th>4</th>\n",
       "      <td>1</td>\n",
       "      <td>0</td>\n",
       "      <td>Allison, Mrs. Hudson J C (Bessie Waldo Daniels)</td>\n",
       "      <td>female</td>\n",
       "      <td>25.00</td>\n",
       "      <td>1</td>\n",
       "      <td>2</td>\n",
       "      <td>113781</td>\n",
       "      <td>151.5500</td>\n",
       "      <td>C22 C26</td>\n",
       "      <td>S</td>\n",
       "      <td>NaN</td>\n",
       "      <td>NaN</td>\n",
       "      <td>Montreal, PQ / Chesterville, ON</td>\n",
       "    </tr>\n",
       "  </tbody>\n",
       "</table>\n",
       "</div>"
      ],
      "text/plain": [
       "   pclass  survived                                             name     sex  \\\n",
       "0       1         1                    Allen, Miss. Elisabeth Walton  female   \n",
       "1       1         1                   Allison, Master. Hudson Trevor    male   \n",
       "2       1         0                     Allison, Miss. Helen Loraine  female   \n",
       "3       1         0             Allison, Mr. Hudson Joshua Creighton    male   \n",
       "4       1         0  Allison, Mrs. Hudson J C (Bessie Waldo Daniels)  female   \n",
       "\n",
       "     age  sibsp  parch  ticket      fare    cabin embarked boat   body  \\\n",
       "0  29.00      0      0   24160  211.3375       B5        S    2    NaN   \n",
       "1   0.92      1      2  113781  151.5500  C22 C26        S   11    NaN   \n",
       "2   2.00      1      2  113781  151.5500  C22 C26        S  NaN    NaN   \n",
       "3  30.00      1      2  113781  151.5500  C22 C26        S  NaN  135.0   \n",
       "4  25.00      1      2  113781  151.5500  C22 C26        S  NaN    NaN   \n",
       "\n",
       "                         home.dest  \n",
       "0                     St Louis, MO  \n",
       "1  Montreal, PQ / Chesterville, ON  \n",
       "2  Montreal, PQ / Chesterville, ON  \n",
       "3  Montreal, PQ / Chesterville, ON  \n",
       "4  Montreal, PQ / Chesterville, ON  "
      ]
     },
     "execution_count": 10,
     "metadata": {},
     "output_type": "execute_result"
    }
   ],
   "source": [
    "titanic_df['age'].fillna(age_null_replacement, inplace=True)\n",
    "titanic_df.head()"
   ]
  },
  {
   "cell_type": "markdown",
   "metadata": {},
   "source": [
    "## Part 4: Group Statistics"
   ]
  },
  {
   "cell_type": "markdown",
   "metadata": {
    "collapsed": true
   },
   "source": [
    "#### Are there any groups that were especially adversely affected in the Titanic wreck? (justify your response numerically)"
   ]
  },
  {
   "cell_type": "markdown",
   "metadata": {},
   "source": [
    "Going to examine survival rates by sex, age, passenger class, size of travelling group.\n",
    "\n",
    "Overall survival rate for Titanic was 38% (equal to mean of Survived column in DataFrame.describe() output above)."
   ]
  },
  {
   "cell_type": "markdown",
   "metadata": {},
   "source": [
    "#### Overall Pivot Table"
   ]
  },
  {
   "cell_type": "code",
   "execution_count": 11,
   "metadata": {
    "collapsed": false,
    "scrolled": true
   },
   "outputs": [
    {
     "data": {
      "text/html": [
       "<div>\n",
       "<table border=\"1\" class=\"dataframe\">\n",
       "  <thead>\n",
       "    <tr>\n",
       "      <th></th>\n",
       "      <th></th>\n",
       "      <th></th>\n",
       "      <th></th>\n",
       "      <th></th>\n",
       "      <th colspan=\"2\" halign=\"left\">sum</th>\n",
       "      <th colspan=\"2\" halign=\"left\">mean</th>\n",
       "    </tr>\n",
       "    <tr>\n",
       "      <th></th>\n",
       "      <th></th>\n",
       "      <th></th>\n",
       "      <th></th>\n",
       "      <th></th>\n",
       "      <th>age</th>\n",
       "      <th>survived</th>\n",
       "      <th>age</th>\n",
       "      <th>survived</th>\n",
       "    </tr>\n",
       "    <tr>\n",
       "      <th>sex</th>\n",
       "      <th>pclass</th>\n",
       "      <th>embarked</th>\n",
       "      <th>sibsp</th>\n",
       "      <th>parch</th>\n",
       "      <th></th>\n",
       "      <th></th>\n",
       "      <th></th>\n",
       "      <th></th>\n",
       "    </tr>\n",
       "  </thead>\n",
       "  <tbody>\n",
       "    <tr>\n",
       "      <th rowspan=\"30\" valign=\"top\">female</th>\n",
       "      <th rowspan=\"17\" valign=\"top\">1</th>\n",
       "      <th rowspan=\"7\" valign=\"top\">C</th>\n",
       "      <th rowspan=\"3\" valign=\"top\">0</th>\n",
       "      <th>0</th>\n",
       "      <td>1124.00</td>\n",
       "      <td>28.0</td>\n",
       "      <td>37.466667</td>\n",
       "      <td>0.933333</td>\n",
       "    </tr>\n",
       "    <tr>\n",
       "      <th>1</th>\n",
       "      <td>381.00</td>\n",
       "      <td>10.0</td>\n",
       "      <td>38.100000</td>\n",
       "      <td>1.000000</td>\n",
       "    </tr>\n",
       "    <tr>\n",
       "      <th>2</th>\n",
       "      <td>86.00</td>\n",
       "      <td>2.0</td>\n",
       "      <td>43.000000</td>\n",
       "      <td>1.000000</td>\n",
       "    </tr>\n",
       "    <tr>\n",
       "      <th rowspan=\"3\" valign=\"top\">1</th>\n",
       "      <th>0</th>\n",
       "      <td>724.00</td>\n",
       "      <td>20.0</td>\n",
       "      <td>36.200000</td>\n",
       "      <td>1.000000</td>\n",
       "    </tr>\n",
       "    <tr>\n",
       "      <th>1</th>\n",
       "      <td>243.00</td>\n",
       "      <td>6.0</td>\n",
       "      <td>40.500000</td>\n",
       "      <td>1.000000</td>\n",
       "    </tr>\n",
       "    <tr>\n",
       "      <th>3</th>\n",
       "      <td>48.00</td>\n",
       "      <td>1.0</td>\n",
       "      <td>48.000000</td>\n",
       "      <td>1.000000</td>\n",
       "    </tr>\n",
       "    <tr>\n",
       "      <th>2</th>\n",
       "      <th>2</th>\n",
       "      <td>39.00</td>\n",
       "      <td>2.0</td>\n",
       "      <td>19.500000</td>\n",
       "      <td>1.000000</td>\n",
       "    </tr>\n",
       "    <tr>\n",
       "      <th>Q</th>\n",
       "      <th>1</th>\n",
       "      <th>0</th>\n",
       "      <td>70.00</td>\n",
       "      <td>2.0</td>\n",
       "      <td>35.000000</td>\n",
       "      <td>1.000000</td>\n",
       "    </tr>\n",
       "    <tr>\n",
       "      <th rowspan=\"9\" valign=\"top\">S</th>\n",
       "      <th rowspan=\"3\" valign=\"top\">0</th>\n",
       "      <th>0</th>\n",
       "      <td>636.00</td>\n",
       "      <td>20.0</td>\n",
       "      <td>31.800000</td>\n",
       "      <td>1.000000</td>\n",
       "    </tr>\n",
       "    <tr>\n",
       "      <th>1</th>\n",
       "      <td>233.00</td>\n",
       "      <td>7.0</td>\n",
       "      <td>33.285714</td>\n",
       "      <td>1.000000</td>\n",
       "    </tr>\n",
       "    <tr>\n",
       "      <th>2</th>\n",
       "      <td>104.00</td>\n",
       "      <td>4.0</td>\n",
       "      <td>26.000000</td>\n",
       "      <td>1.000000</td>\n",
       "    </tr>\n",
       "    <tr>\n",
       "      <th rowspan=\"4\" valign=\"top\">1</th>\n",
       "      <th>0</th>\n",
       "      <td>739.00</td>\n",
       "      <td>19.0</td>\n",
       "      <td>36.950000</td>\n",
       "      <td>0.950000</td>\n",
       "    </tr>\n",
       "    <tr>\n",
       "      <th>1</th>\n",
       "      <td>301.00</td>\n",
       "      <td>6.0</td>\n",
       "      <td>50.166667</td>\n",
       "      <td>1.000000</td>\n",
       "    </tr>\n",
       "    <tr>\n",
       "      <th>2</th>\n",
       "      <td>104.00</td>\n",
       "      <td>3.0</td>\n",
       "      <td>20.800000</td>\n",
       "      <td>0.600000</td>\n",
       "    </tr>\n",
       "    <tr>\n",
       "      <th>4</th>\n",
       "      <td>60.00</td>\n",
       "      <td>1.0</td>\n",
       "      <td>60.000000</td>\n",
       "      <td>1.000000</td>\n",
       "    </tr>\n",
       "    <tr>\n",
       "      <th>2</th>\n",
       "      <th>0</th>\n",
       "      <td>167.00</td>\n",
       "      <td>3.0</td>\n",
       "      <td>55.666667</td>\n",
       "      <td>1.000000</td>\n",
       "    </tr>\n",
       "    <tr>\n",
       "      <th>3</th>\n",
       "      <th>2</th>\n",
       "      <td>75.00</td>\n",
       "      <td>3.0</td>\n",
       "      <td>25.000000</td>\n",
       "      <td>1.000000</td>\n",
       "    </tr>\n",
       "    <tr>\n",
       "      <th rowspan=\"13\" valign=\"top\">2</th>\n",
       "      <th rowspan=\"4\" valign=\"top\">C</th>\n",
       "      <th>0</th>\n",
       "      <th>0</th>\n",
       "      <td>40.00</td>\n",
       "      <td>2.0</td>\n",
       "      <td>20.000000</td>\n",
       "      <td>1.000000</td>\n",
       "    </tr>\n",
       "    <tr>\n",
       "      <th rowspan=\"3\" valign=\"top\">1</th>\n",
       "      <th>0</th>\n",
       "      <td>123.00</td>\n",
       "      <td>5.0</td>\n",
       "      <td>24.600000</td>\n",
       "      <td>1.000000</td>\n",
       "    </tr>\n",
       "    <tr>\n",
       "      <th>1</th>\n",
       "      <td>24.00</td>\n",
       "      <td>1.0</td>\n",
       "      <td>24.000000</td>\n",
       "      <td>1.000000</td>\n",
       "    </tr>\n",
       "    <tr>\n",
       "      <th>2</th>\n",
       "      <td>26.00</td>\n",
       "      <td>3.0</td>\n",
       "      <td>8.666667</td>\n",
       "      <td>1.000000</td>\n",
       "    </tr>\n",
       "    <tr>\n",
       "      <th>Q</th>\n",
       "      <th>0</th>\n",
       "      <th>0</th>\n",
       "      <td>58.00</td>\n",
       "      <td>2.0</td>\n",
       "      <td>29.000000</td>\n",
       "      <td>1.000000</td>\n",
       "    </tr>\n",
       "    <tr>\n",
       "      <th rowspan=\"8\" valign=\"top\">S</th>\n",
       "      <th rowspan=\"4\" valign=\"top\">0</th>\n",
       "      <th>0</th>\n",
       "      <td>1200.50</td>\n",
       "      <td>32.0</td>\n",
       "      <td>31.592105</td>\n",
       "      <td>0.842105</td>\n",
       "    </tr>\n",
       "    <tr>\n",
       "      <th>1</th>\n",
       "      <td>208.00</td>\n",
       "      <td>8.0</td>\n",
       "      <td>26.000000</td>\n",
       "      <td>1.000000</td>\n",
       "    </tr>\n",
       "    <tr>\n",
       "      <th>2</th>\n",
       "      <td>227.00</td>\n",
       "      <td>9.0</td>\n",
       "      <td>25.222222</td>\n",
       "      <td>1.000000</td>\n",
       "    </tr>\n",
       "    <tr>\n",
       "      <th>3</th>\n",
       "      <td>36.00</td>\n",
       "      <td>1.0</td>\n",
       "      <td>36.000000</td>\n",
       "      <td>1.000000</td>\n",
       "    </tr>\n",
       "    <tr>\n",
       "      <th rowspan=\"4\" valign=\"top\">1</th>\n",
       "      <th>0</th>\n",
       "      <td>416.00</td>\n",
       "      <td>9.0</td>\n",
       "      <td>32.000000</td>\n",
       "      <td>0.692308</td>\n",
       "    </tr>\n",
       "    <tr>\n",
       "      <th>1</th>\n",
       "      <td>255.00</td>\n",
       "      <td>9.0</td>\n",
       "      <td>23.181818</td>\n",
       "      <td>0.818182</td>\n",
       "    </tr>\n",
       "    <tr>\n",
       "      <th>2</th>\n",
       "      <td>134.92</td>\n",
       "      <td>6.0</td>\n",
       "      <td>22.486667</td>\n",
       "      <td>1.000000</td>\n",
       "    </tr>\n",
       "    <tr>\n",
       "      <th>3</th>\n",
       "      <td>54.00</td>\n",
       "      <td>1.0</td>\n",
       "      <td>54.000000</td>\n",
       "      <td>1.000000</td>\n",
       "    </tr>\n",
       "    <tr>\n",
       "      <th>...</th>\n",
       "      <th>...</th>\n",
       "      <th>...</th>\n",
       "      <th>...</th>\n",
       "      <th>...</th>\n",
       "      <td>...</td>\n",
       "      <td>...</td>\n",
       "      <td>...</td>\n",
       "      <td>...</td>\n",
       "    </tr>\n",
       "    <tr>\n",
       "      <th rowspan=\"29\" valign=\"top\">male</th>\n",
       "      <th rowspan=\"29\" valign=\"top\">3</th>\n",
       "      <th rowspan=\"4\" valign=\"top\">C</th>\n",
       "      <th>0</th>\n",
       "      <th>2</th>\n",
       "      <td>39.00</td>\n",
       "      <td>0.0</td>\n",
       "      <td>39.000000</td>\n",
       "      <td>0.000000</td>\n",
       "    </tr>\n",
       "    <tr>\n",
       "      <th rowspan=\"2\" valign=\"top\">1</th>\n",
       "      <th>0</th>\n",
       "      <td>167.00</td>\n",
       "      <td>1.0</td>\n",
       "      <td>23.857143</td>\n",
       "      <td>0.142857</td>\n",
       "    </tr>\n",
       "    <tr>\n",
       "      <th>1</th>\n",
       "      <td>149.00</td>\n",
       "      <td>5.0</td>\n",
       "      <td>18.625000</td>\n",
       "      <td>0.625000</td>\n",
       "    </tr>\n",
       "    <tr>\n",
       "      <th>2</th>\n",
       "      <th>0</th>\n",
       "      <td>84.00</td>\n",
       "      <td>0.0</td>\n",
       "      <td>28.000000</td>\n",
       "      <td>0.000000</td>\n",
       "    </tr>\n",
       "    <tr>\n",
       "      <th rowspan=\"5\" valign=\"top\">Q</th>\n",
       "      <th>0</th>\n",
       "      <th>0</th>\n",
       "      <td>1330.50</td>\n",
       "      <td>6.0</td>\n",
       "      <td>29.566667</td>\n",
       "      <td>0.133333</td>\n",
       "    </tr>\n",
       "    <tr>\n",
       "      <th rowspan=\"2\" valign=\"top\">1</th>\n",
       "      <th>0</th>\n",
       "      <td>140.00</td>\n",
       "      <td>0.0</td>\n",
       "      <td>28.000000</td>\n",
       "      <td>0.000000</td>\n",
       "    </tr>\n",
       "    <tr>\n",
       "      <th>1</th>\n",
       "      <td>40.00</td>\n",
       "      <td>0.0</td>\n",
       "      <td>40.000000</td>\n",
       "      <td>0.000000</td>\n",
       "    </tr>\n",
       "    <tr>\n",
       "      <th>2</th>\n",
       "      <th>0</th>\n",
       "      <td>28.00</td>\n",
       "      <td>1.0</td>\n",
       "      <td>28.000000</td>\n",
       "      <td>1.000000</td>\n",
       "    </tr>\n",
       "    <tr>\n",
       "      <th>4</th>\n",
       "      <th>1</th>\n",
       "      <td>31.00</td>\n",
       "      <td>0.0</td>\n",
       "      <td>6.200000</td>\n",
       "      <td>0.000000</td>\n",
       "    </tr>\n",
       "    <tr>\n",
       "      <th rowspan=\"20\" valign=\"top\">S</th>\n",
       "      <th rowspan=\"3\" valign=\"top\">0</th>\n",
       "      <th>0</th>\n",
       "      <td>7875.50</td>\n",
       "      <td>40.0</td>\n",
       "      <td>28.329137</td>\n",
       "      <td>0.143885</td>\n",
       "    </tr>\n",
       "    <tr>\n",
       "      <th>1</th>\n",
       "      <td>101.83</td>\n",
       "      <td>3.0</td>\n",
       "      <td>20.366000</td>\n",
       "      <td>0.600000</td>\n",
       "    </tr>\n",
       "    <tr>\n",
       "      <th>2</th>\n",
       "      <td>62.83</td>\n",
       "      <td>1.0</td>\n",
       "      <td>15.707500</td>\n",
       "      <td>0.250000</td>\n",
       "    </tr>\n",
       "    <tr>\n",
       "      <th rowspan=\"8\" valign=\"top\">1</th>\n",
       "      <th>0</th>\n",
       "      <td>599.50</td>\n",
       "      <td>3.0</td>\n",
       "      <td>27.250000</td>\n",
       "      <td>0.136364</td>\n",
       "    </tr>\n",
       "    <tr>\n",
       "      <th>1</th>\n",
       "      <td>211.25</td>\n",
       "      <td>3.0</td>\n",
       "      <td>17.604167</td>\n",
       "      <td>0.250000</td>\n",
       "    </tr>\n",
       "    <tr>\n",
       "      <th>2</th>\n",
       "      <td>83.00</td>\n",
       "      <td>1.0</td>\n",
       "      <td>20.750000</td>\n",
       "      <td>0.250000</td>\n",
       "    </tr>\n",
       "    <tr>\n",
       "      <th>3</th>\n",
       "      <td>16.00</td>\n",
       "      <td>0.0</td>\n",
       "      <td>16.000000</td>\n",
       "      <td>0.000000</td>\n",
       "    </tr>\n",
       "    <tr>\n",
       "      <th>4</th>\n",
       "      <td>40.00</td>\n",
       "      <td>0.0</td>\n",
       "      <td>40.000000</td>\n",
       "      <td>0.000000</td>\n",
       "    </tr>\n",
       "    <tr>\n",
       "      <th>5</th>\n",
       "      <td>79.00</td>\n",
       "      <td>0.0</td>\n",
       "      <td>39.500000</td>\n",
       "      <td>0.000000</td>\n",
       "    </tr>\n",
       "    <tr>\n",
       "      <th>6</th>\n",
       "      <td>40.00</td>\n",
       "      <td>0.0</td>\n",
       "      <td>40.000000</td>\n",
       "      <td>0.000000</td>\n",
       "    </tr>\n",
       "    <tr>\n",
       "      <th>9</th>\n",
       "      <td>28.00</td>\n",
       "      <td>0.0</td>\n",
       "      <td>28.000000</td>\n",
       "      <td>0.000000</td>\n",
       "    </tr>\n",
       "    <tr>\n",
       "      <th rowspan=\"2\" valign=\"top\">2</th>\n",
       "      <th>0</th>\n",
       "      <td>210.00</td>\n",
       "      <td>0.0</td>\n",
       "      <td>26.250000</td>\n",
       "      <td>0.000000</td>\n",
       "    </tr>\n",
       "    <tr>\n",
       "      <th>2</th>\n",
       "      <td>18.00</td>\n",
       "      <td>0.0</td>\n",
       "      <td>18.000000</td>\n",
       "      <td>0.000000</td>\n",
       "    </tr>\n",
       "    <tr>\n",
       "      <th rowspan=\"3\" valign=\"top\">3</th>\n",
       "      <th>0</th>\n",
       "      <td>31.00</td>\n",
       "      <td>0.0</td>\n",
       "      <td>31.000000</td>\n",
       "      <td>0.000000</td>\n",
       "    </tr>\n",
       "    <tr>\n",
       "      <th>1</th>\n",
       "      <td>65.00</td>\n",
       "      <td>1.0</td>\n",
       "      <td>16.250000</td>\n",
       "      <td>0.250000</td>\n",
       "    </tr>\n",
       "    <tr>\n",
       "      <th>2</th>\n",
       "      <td>14.00</td>\n",
       "      <td>0.0</td>\n",
       "      <td>7.000000</td>\n",
       "      <td>0.000000</td>\n",
       "    </tr>\n",
       "    <tr>\n",
       "      <th rowspan=\"2\" valign=\"top\">4</th>\n",
       "      <th>1</th>\n",
       "      <td>40.00</td>\n",
       "      <td>0.0</td>\n",
       "      <td>8.000000</td>\n",
       "      <td>0.000000</td>\n",
       "    </tr>\n",
       "    <tr>\n",
       "      <th>2</th>\n",
       "      <td>34.00</td>\n",
       "      <td>1.0</td>\n",
       "      <td>6.800000</td>\n",
       "      <td>0.200000</td>\n",
       "    </tr>\n",
       "    <tr>\n",
       "      <th>5</th>\n",
       "      <th>2</th>\n",
       "      <td>35.00</td>\n",
       "      <td>0.0</td>\n",
       "      <td>8.750000</td>\n",
       "      <td>0.000000</td>\n",
       "    </tr>\n",
       "    <tr>\n",
       "      <th>8</th>\n",
       "      <th>2</th>\n",
       "      <td>126.50</td>\n",
       "      <td>0.0</td>\n",
       "      <td>25.300000</td>\n",
       "      <td>0.000000</td>\n",
       "    </tr>\n",
       "    <tr>\n",
       "      <th>All</th>\n",
       "      <th></th>\n",
       "      <th></th>\n",
       "      <th></th>\n",
       "      <th></th>\n",
       "      <td>38519.67</td>\n",
       "      <td>498.0</td>\n",
       "      <td>29.471821</td>\n",
       "      <td>0.381025</td>\n",
       "    </tr>\n",
       "  </tbody>\n",
       "</table>\n",
       "<p>130 rows × 4 columns</p>\n",
       "</div>"
      ],
      "text/plain": [
       "                                         sum                mean          \n",
       "                                         age survived        age  survived\n",
       "sex    pclass embarked sibsp parch                                        \n",
       "female 1      C        0     0       1124.00     28.0  37.466667  0.933333\n",
       "                             1        381.00     10.0  38.100000  1.000000\n",
       "                             2         86.00      2.0  43.000000  1.000000\n",
       "                       1     0        724.00     20.0  36.200000  1.000000\n",
       "                             1        243.00      6.0  40.500000  1.000000\n",
       "                             3         48.00      1.0  48.000000  1.000000\n",
       "                       2     2         39.00      2.0  19.500000  1.000000\n",
       "              Q        1     0         70.00      2.0  35.000000  1.000000\n",
       "              S        0     0        636.00     20.0  31.800000  1.000000\n",
       "                             1        233.00      7.0  33.285714  1.000000\n",
       "                             2        104.00      4.0  26.000000  1.000000\n",
       "                       1     0        739.00     19.0  36.950000  0.950000\n",
       "                             1        301.00      6.0  50.166667  1.000000\n",
       "                             2        104.00      3.0  20.800000  0.600000\n",
       "                             4         60.00      1.0  60.000000  1.000000\n",
       "                       2     0        167.00      3.0  55.666667  1.000000\n",
       "                       3     2         75.00      3.0  25.000000  1.000000\n",
       "       2      C        0     0         40.00      2.0  20.000000  1.000000\n",
       "                       1     0        123.00      5.0  24.600000  1.000000\n",
       "                             1         24.00      1.0  24.000000  1.000000\n",
       "                             2         26.00      3.0   8.666667  1.000000\n",
       "              Q        0     0         58.00      2.0  29.000000  1.000000\n",
       "              S        0     0       1200.50     32.0  31.592105  0.842105\n",
       "                             1        208.00      8.0  26.000000  1.000000\n",
       "                             2        227.00      9.0  25.222222  1.000000\n",
       "                             3         36.00      1.0  36.000000  1.000000\n",
       "                       1     0        416.00      9.0  32.000000  0.692308\n",
       "                             1        255.00      9.0  23.181818  0.818182\n",
       "                             2        134.92      6.0  22.486667  1.000000\n",
       "                             3         54.00      1.0  54.000000  1.000000\n",
       "...                                      ...      ...        ...       ...\n",
       "male   3      C        0     2         39.00      0.0  39.000000  0.000000\n",
       "                       1     0        167.00      1.0  23.857143  0.142857\n",
       "                             1        149.00      5.0  18.625000  0.625000\n",
       "                       2     0         84.00      0.0  28.000000  0.000000\n",
       "              Q        0     0       1330.50      6.0  29.566667  0.133333\n",
       "                       1     0        140.00      0.0  28.000000  0.000000\n",
       "                             1         40.00      0.0  40.000000  0.000000\n",
       "                       2     0         28.00      1.0  28.000000  1.000000\n",
       "                       4     1         31.00      0.0   6.200000  0.000000\n",
       "              S        0     0       7875.50     40.0  28.329137  0.143885\n",
       "                             1        101.83      3.0  20.366000  0.600000\n",
       "                             2         62.83      1.0  15.707500  0.250000\n",
       "                       1     0        599.50      3.0  27.250000  0.136364\n",
       "                             1        211.25      3.0  17.604167  0.250000\n",
       "                             2         83.00      1.0  20.750000  0.250000\n",
       "                             3         16.00      0.0  16.000000  0.000000\n",
       "                             4         40.00      0.0  40.000000  0.000000\n",
       "                             5         79.00      0.0  39.500000  0.000000\n",
       "                             6         40.00      0.0  40.000000  0.000000\n",
       "                             9         28.00      0.0  28.000000  0.000000\n",
       "                       2     0        210.00      0.0  26.250000  0.000000\n",
       "                             2         18.00      0.0  18.000000  0.000000\n",
       "                       3     0         31.00      0.0  31.000000  0.000000\n",
       "                             1         65.00      1.0  16.250000  0.250000\n",
       "                             2         14.00      0.0   7.000000  0.000000\n",
       "                       4     1         40.00      0.0   8.000000  0.000000\n",
       "                             2         34.00      1.0   6.800000  0.200000\n",
       "                       5     2         35.00      0.0   8.750000  0.000000\n",
       "                       8     2        126.50      0.0  25.300000  0.000000\n",
       "All                                 38519.67    498.0  29.471821  0.381025\n",
       "\n",
       "[130 rows x 4 columns]"
      ]
     },
     "execution_count": 11,
     "metadata": {},
     "output_type": "execute_result"
    }
   ],
   "source": [
    "titanic_df.pivot_table(index=['sex', 'pclass', 'embarked', 'sibsp', 'parch'],\n",
    "                       values=['age','survived'],\n",
    "                       aggfunc=[np.sum, np.mean], \n",
    "                       margins=True,\n",
    "                       margins_name='All')"
   ]
  },
  {
   "cell_type": "markdown",
   "metadata": {},
   "source": [
    "###### Comparing Surivial Rates by Sex"
   ]
  },
  {
   "cell_type": "code",
   "execution_count": 12,
   "metadata": {
    "collapsed": false
   },
   "outputs": [
    {
     "data": {
      "text/html": [
       "<div>\n",
       "<table border=\"1\" class=\"dataframe\">\n",
       "  <thead>\n",
       "    <tr style=\"text-align: right;\">\n",
       "      <th></th>\n",
       "      <th>mean</th>\n",
       "      <th>std</th>\n",
       "      <th>count_nonzero</th>\n",
       "    </tr>\n",
       "    <tr>\n",
       "      <th>sex</th>\n",
       "      <th></th>\n",
       "      <th></th>\n",
       "      <th></th>\n",
       "    </tr>\n",
       "  </thead>\n",
       "  <tbody>\n",
       "    <tr>\n",
       "      <th>female</th>\n",
       "      <td>0.727468</td>\n",
       "      <td>0.445741</td>\n",
       "      <td>339.0</td>\n",
       "    </tr>\n",
       "    <tr>\n",
       "      <th>male</th>\n",
       "      <td>0.190985</td>\n",
       "      <td>0.393310</td>\n",
       "      <td>161.0</td>\n",
       "    </tr>\n",
       "    <tr>\n",
       "      <th>All</th>\n",
       "      <td>0.381971</td>\n",
       "      <td>0.485869</td>\n",
       "      <td>500.0</td>\n",
       "    </tr>\n",
       "  </tbody>\n",
       "</table>\n",
       "</div>"
      ],
      "text/plain": [
       "            mean       std  count_nonzero\n",
       "sex                                      \n",
       "female  0.727468  0.445741          339.0\n",
       "male    0.190985  0.393310          161.0\n",
       "All     0.381971  0.485869          500.0"
      ]
     },
     "execution_count": 12,
     "metadata": {},
     "output_type": "execute_result"
    }
   ],
   "source": [
    "titanic_df.pivot_table(index='sex', \n",
    "                       values='survived', \n",
    "                       aggfunc=[np.mean, np.std, np.count_nonzero], \n",
    "                       margins=True)"
   ]
  },
  {
   "cell_type": "markdown",
   "metadata": {},
   "source": [
    "Survival rates materially different by gender.  Female survival rates more than 3x male."
   ]
  },
  {
   "cell_type": "markdown",
   "metadata": {},
   "source": [
    "###### Comparing Surivial Rates by Passenger Class"
   ]
  },
  {
   "cell_type": "code",
   "execution_count": 13,
   "metadata": {
    "collapsed": false
   },
   "outputs": [
    {
     "data": {
      "text/html": [
       "<div>\n",
       "<table border=\"1\" class=\"dataframe\">\n",
       "  <thead>\n",
       "    <tr style=\"text-align: right;\">\n",
       "      <th></th>\n",
       "      <th>mean</th>\n",
       "      <th>std</th>\n",
       "      <th>count_nonzero</th>\n",
       "    </tr>\n",
       "    <tr>\n",
       "      <th>pclass</th>\n",
       "      <th></th>\n",
       "      <th></th>\n",
       "      <th></th>\n",
       "    </tr>\n",
       "  </thead>\n",
       "  <tbody>\n",
       "    <tr>\n",
       "      <th>1</th>\n",
       "      <td>0.619195</td>\n",
       "      <td>0.486338</td>\n",
       "      <td>200.0</td>\n",
       "    </tr>\n",
       "    <tr>\n",
       "      <th>2</th>\n",
       "      <td>0.429603</td>\n",
       "      <td>0.495915</td>\n",
       "      <td>119.0</td>\n",
       "    </tr>\n",
       "    <tr>\n",
       "      <th>3</th>\n",
       "      <td>0.255289</td>\n",
       "      <td>0.436331</td>\n",
       "      <td>181.0</td>\n",
       "    </tr>\n",
       "    <tr>\n",
       "      <th>All</th>\n",
       "      <td>0.381971</td>\n",
       "      <td>0.485869</td>\n",
       "      <td>500.0</td>\n",
       "    </tr>\n",
       "  </tbody>\n",
       "</table>\n",
       "</div>"
      ],
      "text/plain": [
       "            mean       std  count_nonzero\n",
       "pclass                                   \n",
       "1       0.619195  0.486338          200.0\n",
       "2       0.429603  0.495915          119.0\n",
       "3       0.255289  0.436331          181.0\n",
       "All     0.381971  0.485869          500.0"
      ]
     },
     "execution_count": 13,
     "metadata": {},
     "output_type": "execute_result"
    }
   ],
   "source": [
    "titanic_df.pivot_table(index='pclass', \n",
    "                       values='survived', \n",
    "                       aggfunc=[np.mean, np.std, np.count_nonzero], \n",
    "                       margins=True)"
   ]
  },
  {
   "cell_type": "markdown",
   "metadata": {},
   "source": [
    "Higher socioeconomic status improved chances of survival.  First Class (pclass=1) survival rates 44% higher than Second Class and 2.4x greater than Third Class."
   ]
  },
  {
   "cell_type": "markdown",
   "metadata": {},
   "source": [
    "###### Comparing Surivial Rates by Travelling Group Size"
   ]
  },
  {
   "cell_type": "code",
   "execution_count": 14,
   "metadata": {
    "collapsed": false
   },
   "outputs": [
    {
     "data": {
      "text/html": [
       "<div>\n",
       "<table border=\"1\" class=\"dataframe\">\n",
       "  <thead>\n",
       "    <tr style=\"text-align: right;\">\n",
       "      <th></th>\n",
       "      <th>mean</th>\n",
       "      <th>std</th>\n",
       "      <th>count_nonzero</th>\n",
       "    </tr>\n",
       "    <tr>\n",
       "      <th>sibsp</th>\n",
       "      <th></th>\n",
       "      <th></th>\n",
       "      <th></th>\n",
       "    </tr>\n",
       "  </thead>\n",
       "  <tbody>\n",
       "    <tr>\n",
       "      <th>0</th>\n",
       "      <td>0.346801</td>\n",
       "      <td>0.476219</td>\n",
       "      <td>309.0</td>\n",
       "    </tr>\n",
       "    <tr>\n",
       "      <th>1</th>\n",
       "      <td>0.510972</td>\n",
       "      <td>0.500665</td>\n",
       "      <td>163.0</td>\n",
       "    </tr>\n",
       "    <tr>\n",
       "      <th>2</th>\n",
       "      <td>0.452381</td>\n",
       "      <td>0.503761</td>\n",
       "      <td>19.0</td>\n",
       "    </tr>\n",
       "    <tr>\n",
       "      <th>3</th>\n",
       "      <td>0.300000</td>\n",
       "      <td>0.470162</td>\n",
       "      <td>6.0</td>\n",
       "    </tr>\n",
       "    <tr>\n",
       "      <th>4</th>\n",
       "      <td>0.136364</td>\n",
       "      <td>0.351250</td>\n",
       "      <td>3.0</td>\n",
       "    </tr>\n",
       "    <tr>\n",
       "      <th>5</th>\n",
       "      <td>0.000000</td>\n",
       "      <td>0.000000</td>\n",
       "      <td>0.0</td>\n",
       "    </tr>\n",
       "    <tr>\n",
       "      <th>8</th>\n",
       "      <td>0.000000</td>\n",
       "      <td>0.000000</td>\n",
       "      <td>0.0</td>\n",
       "    </tr>\n",
       "    <tr>\n",
       "      <th>All</th>\n",
       "      <td>0.381971</td>\n",
       "      <td>0.485869</td>\n",
       "      <td>500.0</td>\n",
       "    </tr>\n",
       "  </tbody>\n",
       "</table>\n",
       "</div>"
      ],
      "text/plain": [
       "           mean       std  count_nonzero\n",
       "sibsp                                   \n",
       "0      0.346801  0.476219          309.0\n",
       "1      0.510972  0.500665          163.0\n",
       "2      0.452381  0.503761           19.0\n",
       "3      0.300000  0.470162            6.0\n",
       "4      0.136364  0.351250            3.0\n",
       "5      0.000000  0.000000            0.0\n",
       "8      0.000000  0.000000            0.0\n",
       "All    0.381971  0.485869          500.0"
      ]
     },
     "execution_count": 14,
     "metadata": {},
     "output_type": "execute_result"
    }
   ],
   "source": [
    "titanic_df.pivot_table(index='sibsp', \n",
    "                       values='survived', \n",
    "                       aggfunc=[np.mean, np.std, np.count_nonzero], \n",
    "                       margins=True)"
   ]
  },
  {
   "cell_type": "code",
   "execution_count": 15,
   "metadata": {
    "collapsed": false
   },
   "outputs": [
    {
     "data": {
      "text/html": [
       "<div>\n",
       "<table border=\"1\" class=\"dataframe\">\n",
       "  <thead>\n",
       "    <tr style=\"text-align: right;\">\n",
       "      <th></th>\n",
       "      <th>mean</th>\n",
       "      <th>std</th>\n",
       "      <th>count_nonzero</th>\n",
       "    </tr>\n",
       "    <tr>\n",
       "      <th>parch</th>\n",
       "      <th></th>\n",
       "      <th></th>\n",
       "      <th></th>\n",
       "    </tr>\n",
       "  </thead>\n",
       "  <tbody>\n",
       "    <tr>\n",
       "      <th>0</th>\n",
       "      <td>0.335329</td>\n",
       "      <td>0.472341</td>\n",
       "      <td>336.0</td>\n",
       "    </tr>\n",
       "    <tr>\n",
       "      <th>1</th>\n",
       "      <td>0.588235</td>\n",
       "      <td>0.493607</td>\n",
       "      <td>100.0</td>\n",
       "    </tr>\n",
       "    <tr>\n",
       "      <th>2</th>\n",
       "      <td>0.504425</td>\n",
       "      <td>0.502208</td>\n",
       "      <td>57.0</td>\n",
       "    </tr>\n",
       "    <tr>\n",
       "      <th>3</th>\n",
       "      <td>0.625000</td>\n",
       "      <td>0.517549</td>\n",
       "      <td>5.0</td>\n",
       "    </tr>\n",
       "    <tr>\n",
       "      <th>4</th>\n",
       "      <td>0.166667</td>\n",
       "      <td>0.408248</td>\n",
       "      <td>1.0</td>\n",
       "    </tr>\n",
       "    <tr>\n",
       "      <th>5</th>\n",
       "      <td>0.166667</td>\n",
       "      <td>0.408248</td>\n",
       "      <td>1.0</td>\n",
       "    </tr>\n",
       "    <tr>\n",
       "      <th>6</th>\n",
       "      <td>0.000000</td>\n",
       "      <td>0.000000</td>\n",
       "      <td>0.0</td>\n",
       "    </tr>\n",
       "    <tr>\n",
       "      <th>9</th>\n",
       "      <td>0.000000</td>\n",
       "      <td>0.000000</td>\n",
       "      <td>0.0</td>\n",
       "    </tr>\n",
       "    <tr>\n",
       "      <th>All</th>\n",
       "      <td>0.381971</td>\n",
       "      <td>0.485869</td>\n",
       "      <td>500.0</td>\n",
       "    </tr>\n",
       "  </tbody>\n",
       "</table>\n",
       "</div>"
      ],
      "text/plain": [
       "           mean       std  count_nonzero\n",
       "parch                                   \n",
       "0      0.335329  0.472341          336.0\n",
       "1      0.588235  0.493607          100.0\n",
       "2      0.504425  0.502208           57.0\n",
       "3      0.625000  0.517549            5.0\n",
       "4      0.166667  0.408248            1.0\n",
       "5      0.166667  0.408248            1.0\n",
       "6      0.000000  0.000000            0.0\n",
       "9      0.000000  0.000000            0.0\n",
       "All    0.381971  0.485869          500.0"
      ]
     },
     "execution_count": 15,
     "metadata": {},
     "output_type": "execute_result"
    }
   ],
   "source": [
    "titanic_df.pivot_table(index='parch', \n",
    "                       values='survived', \n",
    "                       aggfunc=[np.mean, np.std, np.count_nonzero], \n",
    "                       margins=True)"
   ]
  },
  {
   "cell_type": "markdown",
   "metadata": {},
   "source": [
    "From the pivot tables above, it looks like one had a better chance of survival travelling in a group than alone.\n",
    "\n",
    "Maybe explained by parents, specifically mothers, accompanying children onto the available lifeboats."
   ]
  },
  {
   "cell_type": "markdown",
   "metadata": {},
   "source": [
    "###### Comparing Surivial Rates by Age"
   ]
  },
  {
   "cell_type": "markdown",
   "metadata": {},
   "source": [
    "First, need to group passenger ages by age brackets to make analysis easier"
   ]
  },
  {
   "cell_type": "code",
   "execution_count": 16,
   "metadata": {
    "collapsed": true
   },
   "outputs": [],
   "source": [
    "# Function to create a age bracket labels\n",
    "# There is probably a more pythonic way to do this, but this works\n",
    "\n",
    "def generate_age_label(row):\n",
    "    age_bracket = row['age']\n",
    "    if age_bracket < 15:\n",
    "        return \"0-15\"\n",
    "    elif age_bracket < 25:\n",
    "        return \"15-25\"\n",
    "    elif age_bracket < 35:\n",
    "        return \"25-35\"\n",
    "    elif age_bracket < 45:\n",
    "        return \"35-45\"\n",
    "    else:\n",
    "        return \"45-\""
   ]
  },
  {
   "cell_type": "code",
   "execution_count": 17,
   "metadata": {
    "collapsed": false
   },
   "outputs": [
    {
     "data": {
      "text/html": [
       "<div>\n",
       "<table border=\"1\" class=\"dataframe\">\n",
       "  <thead>\n",
       "    <tr style=\"text-align: right;\">\n",
       "      <th></th>\n",
       "      <th>pclass</th>\n",
       "      <th>survived</th>\n",
       "      <th>name</th>\n",
       "      <th>sex</th>\n",
       "      <th>age</th>\n",
       "      <th>sibsp</th>\n",
       "      <th>parch</th>\n",
       "      <th>ticket</th>\n",
       "      <th>fare</th>\n",
       "      <th>cabin</th>\n",
       "      <th>embarked</th>\n",
       "      <th>boat</th>\n",
       "      <th>body</th>\n",
       "      <th>home.dest</th>\n",
       "      <th>age_b</th>\n",
       "    </tr>\n",
       "  </thead>\n",
       "  <tbody>\n",
       "    <tr>\n",
       "      <th>0</th>\n",
       "      <td>1</td>\n",
       "      <td>1</td>\n",
       "      <td>Allen, Miss. Elisabeth Walton</td>\n",
       "      <td>female</td>\n",
       "      <td>29.00</td>\n",
       "      <td>0</td>\n",
       "      <td>0</td>\n",
       "      <td>24160</td>\n",
       "      <td>211.3375</td>\n",
       "      <td>B5</td>\n",
       "      <td>S</td>\n",
       "      <td>2</td>\n",
       "      <td>NaN</td>\n",
       "      <td>St Louis, MO</td>\n",
       "      <td>25-35</td>\n",
       "    </tr>\n",
       "    <tr>\n",
       "      <th>1</th>\n",
       "      <td>1</td>\n",
       "      <td>1</td>\n",
       "      <td>Allison, Master. Hudson Trevor</td>\n",
       "      <td>male</td>\n",
       "      <td>0.92</td>\n",
       "      <td>1</td>\n",
       "      <td>2</td>\n",
       "      <td>113781</td>\n",
       "      <td>151.5500</td>\n",
       "      <td>C22 C26</td>\n",
       "      <td>S</td>\n",
       "      <td>11</td>\n",
       "      <td>NaN</td>\n",
       "      <td>Montreal, PQ / Chesterville, ON</td>\n",
       "      <td>0-15</td>\n",
       "    </tr>\n",
       "    <tr>\n",
       "      <th>2</th>\n",
       "      <td>1</td>\n",
       "      <td>0</td>\n",
       "      <td>Allison, Miss. Helen Loraine</td>\n",
       "      <td>female</td>\n",
       "      <td>2.00</td>\n",
       "      <td>1</td>\n",
       "      <td>2</td>\n",
       "      <td>113781</td>\n",
       "      <td>151.5500</td>\n",
       "      <td>C22 C26</td>\n",
       "      <td>S</td>\n",
       "      <td>NaN</td>\n",
       "      <td>NaN</td>\n",
       "      <td>Montreal, PQ / Chesterville, ON</td>\n",
       "      <td>0-15</td>\n",
       "    </tr>\n",
       "    <tr>\n",
       "      <th>3</th>\n",
       "      <td>1</td>\n",
       "      <td>0</td>\n",
       "      <td>Allison, Mr. Hudson Joshua Creighton</td>\n",
       "      <td>male</td>\n",
       "      <td>30.00</td>\n",
       "      <td>1</td>\n",
       "      <td>2</td>\n",
       "      <td>113781</td>\n",
       "      <td>151.5500</td>\n",
       "      <td>C22 C26</td>\n",
       "      <td>S</td>\n",
       "      <td>NaN</td>\n",
       "      <td>135.0</td>\n",
       "      <td>Montreal, PQ / Chesterville, ON</td>\n",
       "      <td>25-35</td>\n",
       "    </tr>\n",
       "    <tr>\n",
       "      <th>4</th>\n",
       "      <td>1</td>\n",
       "      <td>0</td>\n",
       "      <td>Allison, Mrs. Hudson J C (Bessie Waldo Daniels)</td>\n",
       "      <td>female</td>\n",
       "      <td>25.00</td>\n",
       "      <td>1</td>\n",
       "      <td>2</td>\n",
       "      <td>113781</td>\n",
       "      <td>151.5500</td>\n",
       "      <td>C22 C26</td>\n",
       "      <td>S</td>\n",
       "      <td>NaN</td>\n",
       "      <td>NaN</td>\n",
       "      <td>Montreal, PQ / Chesterville, ON</td>\n",
       "      <td>25-35</td>\n",
       "    </tr>\n",
       "  </tbody>\n",
       "</table>\n",
       "</div>"
      ],
      "text/plain": [
       "   pclass  survived                                             name     sex  \\\n",
       "0       1         1                    Allen, Miss. Elisabeth Walton  female   \n",
       "1       1         1                   Allison, Master. Hudson Trevor    male   \n",
       "2       1         0                     Allison, Miss. Helen Loraine  female   \n",
       "3       1         0             Allison, Mr. Hudson Joshua Creighton    male   \n",
       "4       1         0  Allison, Mrs. Hudson J C (Bessie Waldo Daniels)  female   \n",
       "\n",
       "     age  sibsp  parch  ticket      fare    cabin embarked boat   body  \\\n",
       "0  29.00      0      0   24160  211.3375       B5        S    2    NaN   \n",
       "1   0.92      1      2  113781  151.5500  C22 C26        S   11    NaN   \n",
       "2   2.00      1      2  113781  151.5500  C22 C26        S  NaN    NaN   \n",
       "3  30.00      1      2  113781  151.5500  C22 C26        S  NaN  135.0   \n",
       "4  25.00      1      2  113781  151.5500  C22 C26        S  NaN    NaN   \n",
       "\n",
       "                         home.dest  age_b  \n",
       "0                     St Louis, MO  25-35  \n",
       "1  Montreal, PQ / Chesterville, ON   0-15  \n",
       "2  Montreal, PQ / Chesterville, ON   0-15  \n",
       "3  Montreal, PQ / Chesterville, ON  25-35  \n",
       "4  Montreal, PQ / Chesterville, ON  25-35  "
      ]
     },
     "execution_count": 17,
     "metadata": {},
     "output_type": "execute_result"
    }
   ],
   "source": [
    "age_labels = titanic_df.apply(generate_age_label, axis=1)\n",
    "titanic_df['age_b'] = age_labels\n",
    "titanic_df.head()"
   ]
  },
  {
   "cell_type": "code",
   "execution_count": 18,
   "metadata": {
    "collapsed": false
   },
   "outputs": [
    {
     "data": {
      "text/html": [
       "<div>\n",
       "<table border=\"1\" class=\"dataframe\">\n",
       "  <thead>\n",
       "    <tr style=\"text-align: right;\">\n",
       "      <th></th>\n",
       "      <th>mean</th>\n",
       "      <th>std</th>\n",
       "      <th>count_nonzero</th>\n",
       "    </tr>\n",
       "    <tr>\n",
       "      <th>age_b</th>\n",
       "      <th></th>\n",
       "      <th></th>\n",
       "      <th></th>\n",
       "    </tr>\n",
       "  </thead>\n",
       "  <tbody>\n",
       "    <tr>\n",
       "      <th>0-15</th>\n",
       "      <td>0.559633</td>\n",
       "      <td>0.498724</td>\n",
       "      <td>61.0</td>\n",
       "    </tr>\n",
       "    <tr>\n",
       "      <th>15-25</th>\n",
       "      <td>0.386667</td>\n",
       "      <td>0.487800</td>\n",
       "      <td>116.0</td>\n",
       "    </tr>\n",
       "    <tr>\n",
       "      <th>25-35</th>\n",
       "      <td>0.329730</td>\n",
       "      <td>0.470539</td>\n",
       "      <td>183.0</td>\n",
       "    </tr>\n",
       "    <tr>\n",
       "      <th>35-45</th>\n",
       "      <td>0.378698</td>\n",
       "      <td>0.486504</td>\n",
       "      <td>64.0</td>\n",
       "    </tr>\n",
       "    <tr>\n",
       "      <th>45-</th>\n",
       "      <td>0.431818</td>\n",
       "      <td>0.496743</td>\n",
       "      <td>76.0</td>\n",
       "    </tr>\n",
       "    <tr>\n",
       "      <th>All</th>\n",
       "      <td>0.381971</td>\n",
       "      <td>0.485869</td>\n",
       "      <td>500.0</td>\n",
       "    </tr>\n",
       "  </tbody>\n",
       "</table>\n",
       "</div>"
      ],
      "text/plain": [
       "           mean       std  count_nonzero\n",
       "age_b                                   \n",
       "0-15   0.559633  0.498724           61.0\n",
       "15-25  0.386667  0.487800          116.0\n",
       "25-35  0.329730  0.470539          183.0\n",
       "35-45  0.378698  0.486504           64.0\n",
       "45-    0.431818  0.496743           76.0\n",
       "All    0.381971  0.485869          500.0"
      ]
     },
     "execution_count": 18,
     "metadata": {},
     "output_type": "execute_result"
    }
   ],
   "source": [
    "titanic_df.pivot_table(index='age_b', \n",
    "                       values='survived', \n",
    "                       aggfunc=[np.mean, np.std, np.count_nonzero], \n",
    "                       margins=True)"
   ]
  },
  {
   "cell_type": "markdown",
   "metadata": {},
   "source": [
    "Other than for children (<15), not much variation in survival rates among older age brackets versus the overall Titanic survival rate of 38%."
   ]
  },
  {
   "cell_type": "markdown",
   "metadata": {},
   "source": [
    "#### Are there any groups that outperformed the survival of the latter group? (justify your response numerically)\n"
   ]
  },
  {
   "cell_type": "markdown",
   "metadata": {},
   "source": [
    "There are many ways to slice and dice the data and look at many different relationships, but in the interests of time, will focus on exploring the survival rate differences betweeen males and females and between classes (socioeconomic status)"
   ]
  },
  {
   "cell_type": "code",
   "execution_count": 19,
   "metadata": {
    "collapsed": true
   },
   "outputs": [],
   "source": [
    "from scipy.stats import chi2_contingency"
   ]
  },
  {
   "cell_type": "markdown",
   "metadata": {},
   "source": [
    "##### Is the Difference in Survival Rates Between Females and Males Statistically Significant?"
   ]
  },
  {
   "cell_type": "code",
   "execution_count": 20,
   "metadata": {
    "collapsed": false
   },
   "outputs": [
    {
     "data": {
      "text/html": [
       "<div>\n",
       "<table border=\"1\" class=\"dataframe\">\n",
       "  <thead>\n",
       "    <tr style=\"text-align: right;\">\n",
       "      <th>sex</th>\n",
       "      <th>female</th>\n",
       "      <th>male</th>\n",
       "    </tr>\n",
       "    <tr>\n",
       "      <th>survived</th>\n",
       "      <th></th>\n",
       "      <th></th>\n",
       "    </tr>\n",
       "  </thead>\n",
       "  <tbody>\n",
       "    <tr>\n",
       "      <th>0</th>\n",
       "      <td>127</td>\n",
       "      <td>682</td>\n",
       "    </tr>\n",
       "    <tr>\n",
       "      <th>1</th>\n",
       "      <td>339</td>\n",
       "      <td>161</td>\n",
       "    </tr>\n",
       "  </tbody>\n",
       "</table>\n",
       "</div>"
      ],
      "text/plain": [
       "sex       female  male\n",
       "survived              \n",
       "0            127   682\n",
       "1            339   161"
      ]
     },
     "execution_count": 20,
     "metadata": {},
     "output_type": "execute_result"
    }
   ],
   "source": [
    "sex_survival_xtab = pd.crosstab(titanic_df['survived'], titanic_df['sex'])\n",
    "sex_survival_xtab"
   ]
  },
  {
   "cell_type": "code",
   "execution_count": 21,
   "metadata": {
    "collapsed": false
   },
   "outputs": [
    {
     "name": "stdout",
     "output_type": "stream",
     "text": [
      "Chi-square:  363.617908439\n",
      "\n",
      "p_value:  4.58992493695e-81\n",
      "\n",
      "Degrees of Freedom:  1\n",
      "\n",
      "Expected:  [[ 288.00152788  520.99847212]\n",
      " [ 177.99847212  322.00152788]]\n"
     ]
    }
   ],
   "source": [
    "chisq_value, pvalue_sex_survived, df, expected = chi2_contingency(sex_survival_xtab)\n",
    "print \"Chi-square: \", chisq_value\n",
    "print \"\"\n",
    "print \"p_value: \", pvalue_sex_survived\n",
    "print \"\"\n",
    "print \"Degrees of Freedom: \", df\n",
    "print \"\"\n",
    "print \"Expected: \", expected"
   ]
  },
  {
   "cell_type": "markdown",
   "metadata": {},
   "source": [
    "The probability associated with the Chi-square value of 364 is well under 1%.  So at the 5% significance level, we can reject the null hypothesis that survival rates for males and females are the same.  If gender did not matter, the number of female survivors would have been only 178 versus the actual of 339."
   ]
  },
  {
   "cell_type": "markdown",
   "metadata": {},
   "source": [
    "##### Are the differences in survival rates of passenger classes statistically significant?"
   ]
  },
  {
   "cell_type": "code",
   "execution_count": 22,
   "metadata": {
    "collapsed": false
   },
   "outputs": [
    {
     "data": {
      "text/html": [
       "<div>\n",
       "<table border=\"1\" class=\"dataframe\">\n",
       "  <thead>\n",
       "    <tr style=\"text-align: right;\">\n",
       "      <th>pclass</th>\n",
       "      <th>1</th>\n",
       "      <th>2</th>\n",
       "      <th>3</th>\n",
       "    </tr>\n",
       "    <tr>\n",
       "      <th>survived</th>\n",
       "      <th></th>\n",
       "      <th></th>\n",
       "      <th></th>\n",
       "    </tr>\n",
       "  </thead>\n",
       "  <tbody>\n",
       "    <tr>\n",
       "      <th>0</th>\n",
       "      <td>123</td>\n",
       "      <td>158</td>\n",
       "      <td>528</td>\n",
       "    </tr>\n",
       "    <tr>\n",
       "      <th>1</th>\n",
       "      <td>200</td>\n",
       "      <td>119</td>\n",
       "      <td>181</td>\n",
       "    </tr>\n",
       "  </tbody>\n",
       "</table>\n",
       "</div>"
      ],
      "text/plain": [
       "pclass      1    2    3\n",
       "survived               \n",
       "0         123  158  528\n",
       "1         200  119  181"
      ]
     },
     "execution_count": 22,
     "metadata": {},
     "output_type": "execute_result"
    }
   ],
   "source": [
    "class_survival_xtab = pd.crosstab(titanic_df['survived'], titanic_df['pclass'])\n",
    "class_survival_xtab"
   ]
  },
  {
   "cell_type": "code",
   "execution_count": 23,
   "metadata": {
    "collapsed": false
   },
   "outputs": [
    {
     "name": "stdout",
     "output_type": "stream",
     "text": [
      "Chi-square:  127.859156439\n",
      "\n",
      "p_value:  1.72082595883e-28\n",
      "\n",
      "Degrees of Freedom:  2\n",
      "\n",
      "Expected:  [[ 199.62337662  171.19404125  438.18258212]\n",
      " [ 123.37662338  105.80595875  270.81741788]]\n"
     ]
    }
   ],
   "source": [
    "chisq_value, pvalue_class_survived, df, expected = chi2_contingency(class_survival_xtab)\n",
    "print \"Chi-square: \", chisq_value\n",
    "print \"\"\n",
    "print \"p_value: \", pvalue_class_survived\n",
    "print \"\"\n",
    "print \"Degrees of Freedom: \", df\n",
    "print \"\"\n",
    "print \"Expected: \", expected"
   ]
  },
  {
   "cell_type": "markdown",
   "metadata": {},
   "source": [
    "The probability associated with the Chi-square value of 127 is well under 1%. So at the 5% significance level, we can reject the null hypothesis that survival rates for class are the same.  The richer you were, as measured by fare class, the more likely you were to survive.  If class did not matter, the number of survivors would have been 123 versus the actual of 200.\n"
   ]
  },
  {
   "cell_type": "markdown",
   "metadata": {
    "collapsed": true
   },
   "source": [
    "## Part 5:  Comparative Statistics:  Lusitania"
   ]
  },
  {
   "cell_type": "markdown",
   "metadata": {},
   "source": [
    "##### Loading and reading in the Lusitania data and getting an overview of what we will be working with"
   ]
  },
  {
   "cell_type": "code",
   "execution_count": 24,
   "metadata": {
    "collapsed": false
   },
   "outputs": [
    {
     "data": {
      "text/html": [
       "<div>\n",
       "<table border=\"1\" class=\"dataframe\">\n",
       "  <thead>\n",
       "    <tr style=\"text-align: right;\">\n",
       "      <th></th>\n",
       "      <th>Family name</th>\n",
       "      <th>Title</th>\n",
       "      <th>Personal name</th>\n",
       "      <th>Fate</th>\n",
       "      <th>Age</th>\n",
       "      <th>Department/Class</th>\n",
       "      <th>Passenger/Crew</th>\n",
       "      <th>Citizenship</th>\n",
       "      <th>Position</th>\n",
       "      <th>Status</th>\n",
       "      <th>...</th>\n",
       "      <th>Country</th>\n",
       "      <th>Lifeboat</th>\n",
       "      <th>Rescue Vessel</th>\n",
       "      <th>Body No.</th>\n",
       "      <th>Ticket No.</th>\n",
       "      <th>Cabin No.</th>\n",
       "      <th>Traveling Companions and other notes</th>\n",
       "      <th>Value</th>\n",
       "      <th>Adult/Minor</th>\n",
       "      <th>Sex</th>\n",
       "    </tr>\n",
       "  </thead>\n",
       "  <tbody>\n",
       "    <tr>\n",
       "      <th>0</th>\n",
       "      <td>CAMERON</td>\n",
       "      <td>Mr.</td>\n",
       "      <td>Charles W.</td>\n",
       "      <td>Lost</td>\n",
       "      <td>38</td>\n",
       "      <td>Band</td>\n",
       "      <td>Crew</td>\n",
       "      <td>British</td>\n",
       "      <td>NaN</td>\n",
       "      <td>NaN</td>\n",
       "      <td>...</td>\n",
       "      <td>NaN</td>\n",
       "      <td>NaN</td>\n",
       "      <td>NaN</td>\n",
       "      <td>NaN</td>\n",
       "      <td>NaN</td>\n",
       "      <td>NaN</td>\n",
       "      <td>NaN</td>\n",
       "      <td>1</td>\n",
       "      <td>Adult</td>\n",
       "      <td>Male</td>\n",
       "    </tr>\n",
       "    <tr>\n",
       "      <th>1</th>\n",
       "      <td>CARR-JONES</td>\n",
       "      <td>Mr.</td>\n",
       "      <td>E.</td>\n",
       "      <td>Lost</td>\n",
       "      <td>37</td>\n",
       "      <td>Band</td>\n",
       "      <td>Crew</td>\n",
       "      <td>British</td>\n",
       "      <td>NaN</td>\n",
       "      <td>NaN</td>\n",
       "      <td>...</td>\n",
       "      <td>NaN</td>\n",
       "      <td>NaN</td>\n",
       "      <td>NaN</td>\n",
       "      <td>NaN</td>\n",
       "      <td>NaN</td>\n",
       "      <td>NaN</td>\n",
       "      <td>NaN</td>\n",
       "      <td>1</td>\n",
       "      <td>Adult</td>\n",
       "      <td>Male</td>\n",
       "    </tr>\n",
       "    <tr>\n",
       "      <th>2</th>\n",
       "      <td>DRAKEFORD</td>\n",
       "      <td>Mr.</td>\n",
       "      <td>Edward</td>\n",
       "      <td>Saved</td>\n",
       "      <td>30</td>\n",
       "      <td>Band</td>\n",
       "      <td>Crew</td>\n",
       "      <td>British</td>\n",
       "      <td>Violin</td>\n",
       "      <td>NaN</td>\n",
       "      <td>...</td>\n",
       "      <td>NaN</td>\n",
       "      <td>NaN</td>\n",
       "      <td>NaN</td>\n",
       "      <td>NaN</td>\n",
       "      <td>NaN</td>\n",
       "      <td>NaN</td>\n",
       "      <td>NaN</td>\n",
       "      <td>1</td>\n",
       "      <td>Adult</td>\n",
       "      <td>Male</td>\n",
       "    </tr>\n",
       "    <tr>\n",
       "      <th>3</th>\n",
       "      <td>HAWKINS</td>\n",
       "      <td>Mr.</td>\n",
       "      <td>Handel</td>\n",
       "      <td>Saved</td>\n",
       "      <td>25</td>\n",
       "      <td>Band</td>\n",
       "      <td>Crew</td>\n",
       "      <td>British</td>\n",
       "      <td>Cello</td>\n",
       "      <td>NaN</td>\n",
       "      <td>...</td>\n",
       "      <td>NaN</td>\n",
       "      <td>NaN</td>\n",
       "      <td>NaN</td>\n",
       "      <td>NaN</td>\n",
       "      <td>NaN</td>\n",
       "      <td>NaN</td>\n",
       "      <td>NaN</td>\n",
       "      <td>1</td>\n",
       "      <td>Adult</td>\n",
       "      <td>Male</td>\n",
       "    </tr>\n",
       "    <tr>\n",
       "      <th>4</th>\n",
       "      <td>HEMINGWAY</td>\n",
       "      <td>Mr.</td>\n",
       "      <td>John William</td>\n",
       "      <td>Saved</td>\n",
       "      <td>27</td>\n",
       "      <td>Band</td>\n",
       "      <td>Crew</td>\n",
       "      <td>British</td>\n",
       "      <td>Double Bass</td>\n",
       "      <td>NaN</td>\n",
       "      <td>...</td>\n",
       "      <td>NaN</td>\n",
       "      <td>NaN</td>\n",
       "      <td>NaN</td>\n",
       "      <td>NaN</td>\n",
       "      <td>NaN</td>\n",
       "      <td>NaN</td>\n",
       "      <td>NaN</td>\n",
       "      <td>1</td>\n",
       "      <td>Adult</td>\n",
       "      <td>Male</td>\n",
       "    </tr>\n",
       "  </tbody>\n",
       "</table>\n",
       "<p>5 rows × 23 columns</p>\n",
       "</div>"
      ],
      "text/plain": [
       "  Family name Title Personal name   Fate Age Department/Class Passenger/Crew  \\\n",
       "0     CAMERON   Mr.    Charles W.   Lost  38             Band           Crew   \n",
       "1  CARR-JONES   Mr.            E.   Lost  37             Band           Crew   \n",
       "2   DRAKEFORD   Mr.        Edward  Saved  30             Band           Crew   \n",
       "3     HAWKINS   Mr.        Handel  Saved  25             Band           Crew   \n",
       "4   HEMINGWAY   Mr.  John William  Saved  27             Band           Crew   \n",
       "\n",
       "  Citizenship     Position Status  ...  Country Lifeboat Rescue Vessel  \\\n",
       "0     British          NaN    NaN  ...      NaN      NaN           NaN   \n",
       "1     British          NaN    NaN  ...      NaN      NaN           NaN   \n",
       "2     British       Violin    NaN  ...      NaN      NaN           NaN   \n",
       "3     British        Cello    NaN  ...      NaN      NaN           NaN   \n",
       "4     British  Double Bass    NaN  ...      NaN      NaN           NaN   \n",
       "\n",
       "  Body No. Ticket No. Cabin No. Traveling Companions and other notes Value  \\\n",
       "0      NaN        NaN       NaN                                  NaN     1   \n",
       "1      NaN        NaN       NaN                                  NaN     1   \n",
       "2      NaN        NaN       NaN                                  NaN     1   \n",
       "3      NaN        NaN       NaN                                  NaN     1   \n",
       "4      NaN        NaN       NaN                                  NaN     1   \n",
       "\n",
       "  Adult/Minor   Sex  \n",
       "0       Adult  Male  \n",
       "1       Adult  Male  \n",
       "2       Adult  Male  \n",
       "3       Adult  Male  \n",
       "4       Adult  Male  \n",
       "\n",
       "[5 rows x 23 columns]"
      ]
     },
     "execution_count": 24,
     "metadata": {},
     "output_type": "execute_result"
    }
   ],
   "source": [
    "lusitania_data_location = '/Users/nate_velarde/dsi/dsi_workspace/dsi_project_2/lusitania.csv'\n",
    "lusitania_df = pd.read_csv(lusitania_data_location)\n",
    "lusitania_df.head()"
   ]
  },
  {
   "cell_type": "code",
   "execution_count": 25,
   "metadata": {
    "collapsed": false
   },
   "outputs": [
    {
     "name": "stdout",
     "output_type": "stream",
     "text": [
      "<class 'pandas.core.frame.DataFrame'>\n",
      "RangeIndex: 1961 entries, 0 to 1960\n",
      "Data columns (total 23 columns):\n",
      "Family name                             1961 non-null object\n",
      "Title                                   1961 non-null object\n",
      "Personal name                           1958 non-null object\n",
      "Fate                                    1961 non-null object\n",
      "Age                                     1308 non-null object\n",
      "Department/Class                        1961 non-null object\n",
      "Passenger/Crew                          1961 non-null object\n",
      "Citizenship                             1959 non-null object\n",
      "Position                                691 non-null object\n",
      "Status                                  795 non-null object\n",
      "City                                    1279 non-null object\n",
      "County                                  71 non-null object\n",
      "State                                   1032 non-null object\n",
      "Country                                 1323 non-null object\n",
      "Lifeboat                                132 non-null object\n",
      "Rescue Vessel                           151 non-null object\n",
      "Body No.                                211 non-null object\n",
      "Ticket No.                              284 non-null object\n",
      "Cabin No.                               329 non-null object\n",
      "Traveling Companions and other notes    598 non-null object\n",
      "Value                                   1961 non-null int64\n",
      "Adult/Minor                             1961 non-null object\n",
      "Sex                                     1961 non-null object\n",
      "dtypes: int64(1), object(22)\n",
      "memory usage: 352.4+ KB\n"
     ]
    }
   ],
   "source": [
    "lusitania_df.info()"
   ]
  },
  {
   "cell_type": "code",
   "execution_count": 26,
   "metadata": {
    "collapsed": false
   },
   "outputs": [
    {
     "data": {
      "text/plain": [
       "Family name                             object\n",
       "Title                                   object\n",
       "Personal name                           object\n",
       "Fate                                    object\n",
       "Age                                     object\n",
       "Department/Class                        object\n",
       "Passenger/Crew                          object\n",
       "Citizenship                             object\n",
       "Position                                object\n",
       "Status                                  object\n",
       "City                                    object\n",
       "County                                  object\n",
       "State                                   object\n",
       "Country                                 object\n",
       "Lifeboat                                object\n",
       "Rescue Vessel                           object\n",
       "Body No.                                object\n",
       "Ticket No.                              object\n",
       "Cabin No.                               object\n",
       "Traveling Companions and other notes    object\n",
       "Value                                    int64\n",
       "Adult/Minor                             object\n",
       "Sex                                     object\n",
       "dtype: object"
      ]
     },
     "execution_count": 26,
     "metadata": {},
     "output_type": "execute_result"
    }
   ],
   "source": [
    "lusitania_df.dtypes"
   ]
  },
  {
   "cell_type": "markdown",
   "metadata": {},
   "source": [
    "##### Taking a look at the unique values for the columns to get a better sense of the data, how to make them more comparable to Titanic and formulating a plan on how to clean them up if required."
   ]
  },
  {
   "cell_type": "code",
   "execution_count": 27,
   "metadata": {
    "collapsed": false
   },
   "outputs": [
    {
     "data": {
      "text/plain": [
       "array(['Lost', 'Saved', 'Saved (died from trauma)', 'Not on board'], dtype=object)"
      ]
     },
     "execution_count": 27,
     "metadata": {},
     "output_type": "execute_result"
    }
   ],
   "source": [
    "lusitania_df['Fate'].unique()"
   ]
  },
  {
   "cell_type": "code",
   "execution_count": 28,
   "metadata": {
    "collapsed": false
   },
   "outputs": [
    {
     "data": {
      "text/plain": [
       "Lost                        1193\n",
       "Saved                        763\n",
       "Saved (died from trauma)       4\n",
       "Not on board                   1\n",
       "Name: Fate, dtype: int64"
      ]
     },
     "execution_count": 28,
     "metadata": {},
     "output_type": "execute_result"
    }
   ],
   "source": [
    "lusitania_df['Fate'].value_counts()"
   ]
  },
  {
   "cell_type": "code",
   "execution_count": 29,
   "metadata": {
    "collapsed": false
   },
   "outputs": [
    {
     "data": {
      "text/plain": [
       "array(['Crew', 'Passenger', 'Stowaway'], dtype=object)"
      ]
     },
     "execution_count": 29,
     "metadata": {},
     "output_type": "execute_result"
    }
   ],
   "source": [
    "lusitania_df['Passenger/Crew'].unique()"
   ]
  },
  {
   "cell_type": "code",
   "execution_count": 30,
   "metadata": {
    "collapsed": false
   },
   "outputs": [
    {
     "data": {
      "text/plain": [
       "Passenger    1265\n",
       "Crew          693\n",
       "Stowaway        3\n",
       "Name: Passenger/Crew, dtype: int64"
      ]
     },
     "execution_count": 30,
     "metadata": {},
     "output_type": "execute_result"
    }
   ],
   "source": [
    "lusitania_df['Passenger/Crew'].value_counts()"
   ]
  },
  {
   "cell_type": "code",
   "execution_count": 31,
   "metadata": {
    "collapsed": false
   },
   "outputs": [
    {
     "data": {
      "text/plain": [
       "array(['Band', 'Deck', 'Engineering', 'Saloon', 'Second', 'Stowaway',\n",
       "       'Third', 'Third (Distressed British Seaman)', 'Victualling'], dtype=object)"
      ]
     },
     "execution_count": 31,
     "metadata": {},
     "output_type": "execute_result"
    }
   ],
   "source": [
    "lusitania_df['Department/Class'].unique()"
   ]
  },
  {
   "cell_type": "code",
   "execution_count": 32,
   "metadata": {
    "collapsed": false
   },
   "outputs": [
    {
     "data": {
      "text/plain": [
       "Second                               601\n",
       "Third                                370\n",
       "Engineering                          313\n",
       "Victualling                          306\n",
       "Saloon                               291\n",
       "Deck                                  69\n",
       "Band                                   5\n",
       "Third (Distressed British Seaman)      3\n",
       "Stowaway                               3\n",
       "Name: Department/Class, dtype: int64"
      ]
     },
     "execution_count": 32,
     "metadata": {},
     "output_type": "execute_result"
    }
   ],
   "source": [
    "lusitania_df['Department/Class'].value_counts()"
   ]
  },
  {
   "cell_type": "code",
   "execution_count": 33,
   "metadata": {
    "collapsed": false
   },
   "outputs": [
    {
     "data": {
      "text/plain": [
       "array([nan, 'Single', 'Widower', 'Married', 'Separated', '?',\n",
       "       'Divorced/Engaged', 'Widowed', 'Divorced', 'Single (?)',\n",
       "       'Widowed (?)', 'Divorced (?)', 'Engaged'], dtype=object)"
      ]
     },
     "execution_count": 33,
     "metadata": {},
     "output_type": "execute_result"
    }
   ],
   "source": [
    "lusitania_df['Status'].unique()"
   ]
  },
  {
   "cell_type": "code",
   "execution_count": 34,
   "metadata": {
    "collapsed": false
   },
   "outputs": [
    {
     "data": {
      "text/plain": [
       "Married             423\n",
       "Single              337\n",
       "Widowed              17\n",
       "?                     4\n",
       "Divorced              3\n",
       "Engaged               3\n",
       "Single (?)            2\n",
       "Separated             2\n",
       "Widower               1\n",
       "Divorced (?)          1\n",
       "Divorced/Engaged      1\n",
       "Widowed (?)           1\n",
       "Name: Status, dtype: int64"
      ]
     },
     "execution_count": 34,
     "metadata": {},
     "output_type": "execute_result"
    }
   ],
   "source": [
    "lusitania_df['Status'].value_counts()"
   ]
  },
  {
   "cell_type": "code",
   "execution_count": 35,
   "metadata": {
    "collapsed": false
   },
   "outputs": [
    {
     "name": "stdout",
     "output_type": "stream",
     "text": [
      "['38', '37', '30', '25', '27', '48', nan, '24', '19 ?', '57', '50', '56', '41', '19', '33', '29', '18', '20', '21', '26', '17', '58', '47', '54', '35', '43', '59', '53', '44', '51', '40', '49', '42', '32', '31', '34', '22', '45', '36', '29 ?', '52', '23', '60', '28', '16', '46', '15', '39', '63 ?', '55', '64', '53 ?', '09-months', '6', '9', '14', '10', '12', '?', '62', '5', '8', '65', '68', '76', '61', '63', '03-months', '1.5', '2.5', '18-months', '3', '2', '25 ?', '08-months', '4', '15-months', '14-months', 'Infant', '3-6-months ?', '51 or 47', '45 or 51', '22 (?)', '17-months', '13-months', '02-months', '49 ?', '05-months', '11', '59 (64?)', '63 (51?)', '37 (39?)', '32 (22?)', '31 (32?)', '24 (23?)', '27?', '7', '42?', '31 ?', '10-months', '38 (?)', '70', '62 (?)', '06-months', '13', '2_', '11-months', '30 ?', '34?', '1', '39 (47?)', '67', '73', '72', '11-months (3?)', '4.25', '69', '26?', '54?', '21?', '16 ?']\n"
     ]
    }
   ],
   "source": [
    "print list(lusitania_df['Age'].unique())"
   ]
  },
  {
   "cell_type": "markdown",
   "metadata": {},
   "source": [
    "##### First task is to clean the 'Age' column and eventually convert from strings to floats"
   ]
  },
  {
   "cell_type": "code",
   "execution_count": 36,
   "metadata": {
    "collapsed": true
   },
   "outputs": [],
   "source": [
    "import re"
   ]
  },
  {
   "cell_type": "code",
   "execution_count": 37,
   "metadata": {
    "collapsed": true
   },
   "outputs": [],
   "source": [
    "# Per Josh's best cleaning practive - set up a temp version of 'Age'\n",
    "lusitania_df['Age_tmp'] = lusitania_df['Age']"
   ]
  },
  {
   "cell_type": "code",
   "execution_count": 38,
   "metadata": {
    "collapsed": false
   },
   "outputs": [
    {
     "data": {
      "text/html": [
       "<div>\n",
       "<table border=\"1\" class=\"dataframe\">\n",
       "  <thead>\n",
       "    <tr style=\"text-align: right;\">\n",
       "      <th></th>\n",
       "      <th>Family name</th>\n",
       "      <th>Title</th>\n",
       "      <th>Personal name</th>\n",
       "      <th>Fate</th>\n",
       "      <th>Age</th>\n",
       "      <th>Department/Class</th>\n",
       "      <th>Passenger/Crew</th>\n",
       "      <th>Citizenship</th>\n",
       "      <th>Position</th>\n",
       "      <th>Status</th>\n",
       "      <th>...</th>\n",
       "      <th>Lifeboat</th>\n",
       "      <th>Rescue Vessel</th>\n",
       "      <th>Body No.</th>\n",
       "      <th>Ticket No.</th>\n",
       "      <th>Cabin No.</th>\n",
       "      <th>Traveling Companions and other notes</th>\n",
       "      <th>Value</th>\n",
       "      <th>Adult/Minor</th>\n",
       "      <th>Sex</th>\n",
       "      <th>Age_tmp</th>\n",
       "    </tr>\n",
       "  </thead>\n",
       "  <tbody>\n",
       "    <tr>\n",
       "      <th>0</th>\n",
       "      <td>CAMERON</td>\n",
       "      <td>Mr.</td>\n",
       "      <td>Charles W.</td>\n",
       "      <td>Lost</td>\n",
       "      <td>38</td>\n",
       "      <td>Band</td>\n",
       "      <td>Crew</td>\n",
       "      <td>British</td>\n",
       "      <td>NaN</td>\n",
       "      <td>NaN</td>\n",
       "      <td>...</td>\n",
       "      <td>NaN</td>\n",
       "      <td>NaN</td>\n",
       "      <td>NaN</td>\n",
       "      <td>NaN</td>\n",
       "      <td>NaN</td>\n",
       "      <td>NaN</td>\n",
       "      <td>1</td>\n",
       "      <td>Adult</td>\n",
       "      <td>Male</td>\n",
       "      <td>38</td>\n",
       "    </tr>\n",
       "    <tr>\n",
       "      <th>1</th>\n",
       "      <td>CARR-JONES</td>\n",
       "      <td>Mr.</td>\n",
       "      <td>E.</td>\n",
       "      <td>Lost</td>\n",
       "      <td>37</td>\n",
       "      <td>Band</td>\n",
       "      <td>Crew</td>\n",
       "      <td>British</td>\n",
       "      <td>NaN</td>\n",
       "      <td>NaN</td>\n",
       "      <td>...</td>\n",
       "      <td>NaN</td>\n",
       "      <td>NaN</td>\n",
       "      <td>NaN</td>\n",
       "      <td>NaN</td>\n",
       "      <td>NaN</td>\n",
       "      <td>NaN</td>\n",
       "      <td>1</td>\n",
       "      <td>Adult</td>\n",
       "      <td>Male</td>\n",
       "      <td>37</td>\n",
       "    </tr>\n",
       "    <tr>\n",
       "      <th>2</th>\n",
       "      <td>DRAKEFORD</td>\n",
       "      <td>Mr.</td>\n",
       "      <td>Edward</td>\n",
       "      <td>Saved</td>\n",
       "      <td>30</td>\n",
       "      <td>Band</td>\n",
       "      <td>Crew</td>\n",
       "      <td>British</td>\n",
       "      <td>Violin</td>\n",
       "      <td>NaN</td>\n",
       "      <td>...</td>\n",
       "      <td>NaN</td>\n",
       "      <td>NaN</td>\n",
       "      <td>NaN</td>\n",
       "      <td>NaN</td>\n",
       "      <td>NaN</td>\n",
       "      <td>NaN</td>\n",
       "      <td>1</td>\n",
       "      <td>Adult</td>\n",
       "      <td>Male</td>\n",
       "      <td>30</td>\n",
       "    </tr>\n",
       "    <tr>\n",
       "      <th>3</th>\n",
       "      <td>HAWKINS</td>\n",
       "      <td>Mr.</td>\n",
       "      <td>Handel</td>\n",
       "      <td>Saved</td>\n",
       "      <td>25</td>\n",
       "      <td>Band</td>\n",
       "      <td>Crew</td>\n",
       "      <td>British</td>\n",
       "      <td>Cello</td>\n",
       "      <td>NaN</td>\n",
       "      <td>...</td>\n",
       "      <td>NaN</td>\n",
       "      <td>NaN</td>\n",
       "      <td>NaN</td>\n",
       "      <td>NaN</td>\n",
       "      <td>NaN</td>\n",
       "      <td>NaN</td>\n",
       "      <td>1</td>\n",
       "      <td>Adult</td>\n",
       "      <td>Male</td>\n",
       "      <td>25</td>\n",
       "    </tr>\n",
       "    <tr>\n",
       "      <th>4</th>\n",
       "      <td>HEMINGWAY</td>\n",
       "      <td>Mr.</td>\n",
       "      <td>John William</td>\n",
       "      <td>Saved</td>\n",
       "      <td>27</td>\n",
       "      <td>Band</td>\n",
       "      <td>Crew</td>\n",
       "      <td>British</td>\n",
       "      <td>Double Bass</td>\n",
       "      <td>NaN</td>\n",
       "      <td>...</td>\n",
       "      <td>NaN</td>\n",
       "      <td>NaN</td>\n",
       "      <td>NaN</td>\n",
       "      <td>NaN</td>\n",
       "      <td>NaN</td>\n",
       "      <td>NaN</td>\n",
       "      <td>1</td>\n",
       "      <td>Adult</td>\n",
       "      <td>Male</td>\n",
       "      <td>27</td>\n",
       "    </tr>\n",
       "  </tbody>\n",
       "</table>\n",
       "<p>5 rows × 24 columns</p>\n",
       "</div>"
      ],
      "text/plain": [
       "  Family name Title Personal name   Fate Age Department/Class Passenger/Crew  \\\n",
       "0     CAMERON   Mr.    Charles W.   Lost  38             Band           Crew   \n",
       "1  CARR-JONES   Mr.            E.   Lost  37             Band           Crew   \n",
       "2   DRAKEFORD   Mr.        Edward  Saved  30             Band           Crew   \n",
       "3     HAWKINS   Mr.        Handel  Saved  25             Band           Crew   \n",
       "4   HEMINGWAY   Mr.  John William  Saved  27             Band           Crew   \n",
       "\n",
       "  Citizenship     Position Status   ...   Lifeboat Rescue Vessel Body No.  \\\n",
       "0     British          NaN    NaN   ...        NaN           NaN      NaN   \n",
       "1     British          NaN    NaN   ...        NaN           NaN      NaN   \n",
       "2     British       Violin    NaN   ...        NaN           NaN      NaN   \n",
       "3     British        Cello    NaN   ...        NaN           NaN      NaN   \n",
       "4     British  Double Bass    NaN   ...        NaN           NaN      NaN   \n",
       "\n",
       "  Ticket No. Cabin No. Traveling Companions and other notes Value Adult/Minor  \\\n",
       "0        NaN       NaN                                  NaN     1       Adult   \n",
       "1        NaN       NaN                                  NaN     1       Adult   \n",
       "2        NaN       NaN                                  NaN     1       Adult   \n",
       "3        NaN       NaN                                  NaN     1       Adult   \n",
       "4        NaN       NaN                                  NaN     1       Adult   \n",
       "\n",
       "    Sex Age_tmp  \n",
       "0  Male      38  \n",
       "1  Male      37  \n",
       "2  Male      30  \n",
       "3  Male      25  \n",
       "4  Male      27  \n",
       "\n",
       "[5 rows x 24 columns]"
      ]
     },
     "execution_count": 38,
     "metadata": {},
     "output_type": "execute_result"
    }
   ],
   "source": [
    "lusitania_df.head()"
   ]
  },
  {
   "cell_type": "code",
   "execution_count": 39,
   "metadata": {
    "collapsed": false
   },
   "outputs": [
    {
     "data": {
      "text/plain": [
       "array(['38', '37', '30', '25', '27', '48', nan, '24', '19 ?', '57', '50',\n",
       "       '56', '41', '19', '33', '29', '18', '20', '21', '26', '17', '58',\n",
       "       '47', '54', '35', '43', '59', '53', '44', '51', '40', '49', '42',\n",
       "       '32', '31', '34', '22', '45', '36', '29 ?', '52', '23', '60', '28',\n",
       "       '16', '46', '15', '39', '63 ?', '55', '64', '53 ?', '09-months',\n",
       "       '6', '9', '14', '10', '12', '?', '62', '5', '8', '65', '68', '76',\n",
       "       '61', '63', '03-months', '1.5', '2.5', '18-months', '3', '2',\n",
       "       '25 ?', '08-months', '4', '15-months', '14-months', 'Infant',\n",
       "       '3-6-months ?', '51 or 47', '45 or 51', '22 (?)', '17-months',\n",
       "       '13-months', '02-months', '49 ?', '05-months', '11', '59 (64?)',\n",
       "       '63 (51?)', '37 (39?)', '32 (22?)', '31 (32?)', '24 (23?)', '27?',\n",
       "       '7', '42?', '31 ?', '10-months', '38 (?)', '70', '62 (?)',\n",
       "       '06-months', '13', '2_', '11-months', '30 ?', '34?', '1',\n",
       "       '39 (47?)', '67', '73', '72', '11-months (3?)', '4.25', '69', '26?',\n",
       "       '54?', '21?', '16 ?'], dtype=object)"
      ]
     },
     "execution_count": 39,
     "metadata": {},
     "output_type": "execute_result"
    }
   ],
   "source": [
    "lusitania_df['Age_tmp'].unique()"
   ]
  },
  {
   "cell_type": "code",
   "execution_count": 40,
   "metadata": {
    "collapsed": true
   },
   "outputs": [],
   "source": [
    "lusitania_df['Age_tmp'] = lusitania_df['Age_tmp'].str.replace(' \\?','.0')\n",
    "lusitania_df['Age_tmp'] = lusitania_df['Age_tmp'].str.replace('(\\d)\\?','\\\\1')\n",
    "lusitania_df['Age_tmp'] = lusitania_df['Age_tmp'].str.replace('(...\\d\\d)','\\\\1')\n",
    "lusitania_df['Age_tmp'] = lusitania_df['Age_tmp'].str.replace('\\?','30')\n",
    "lusitania_df['Age_tmp'] = lusitania_df['Age_tmp'].str.replace('2_','20')\n",
    "lusitania_df['Age_tmp'] = lusitania_df['Age_tmp'].str.replace('..-months','1')\n",
    "lusitania_df['Age_tmp'] = lusitania_df['Age_tmp'].str.replace('Infant','1')\n",
    "lusitania_df['Age_tmp'] = lusitania_df['Age_tmp'].str.replace('45 or 51','47')\n",
    "lusitania_df['Age_tmp'] = lusitania_df['Age_tmp'].str.replace('51 or 47','49')\n",
    "lusitania_df['Age_tmp'] = lusitania_df['Age_tmp'].str.replace('(\\d\\d)..(\\d\\d).','\\\\1')\n",
    "lusitania_df['Age_tmp'] = lusitania_df['Age_tmp'].str.replace('(\\d)..(\\d).','\\\\1')"
   ]
  },
  {
   "cell_type": "code",
   "execution_count": 41,
   "metadata": {
    "collapsed": false
   },
   "outputs": [
    {
     "data": {
      "text/plain": [
       "array(['38', '37', '30', '25', '27', '48', nan, '24', '19.0', '57', '50',\n",
       "       '56', '41', '19', '33', '29', '18', '20', '21', '26', '17', '58',\n",
       "       '47', '54', '35', '43', '59', '53', '44', '51', '40', '49', '42',\n",
       "       '32', '31', '34', '22', '45', '36', '29.0', '52', '23', '60', '28',\n",
       "       '16', '46', '15', '39', '63.0', '55', '64', '53.0', '1', '6', '9',\n",
       "       '14', '10', '12', '62', '5', '8', '65', '68', '76', '61', '63',\n",
       "       '1.5', '2.5', '3', '2', '25.0', '4', '31.0', '49.0', '11', '7',\n",
       "       '70', '13', '30.0', '67', '73', '72', '4.25', '69', '16.0'], dtype=object)"
      ]
     },
     "execution_count": 41,
     "metadata": {},
     "output_type": "execute_result"
    }
   ],
   "source": [
    "lusitania_df['Age_tmp'].unique()"
   ]
  },
  {
   "cell_type": "code",
   "execution_count": 42,
   "metadata": {
    "collapsed": true
   },
   "outputs": [],
   "source": [
    "# Converting strings to floats\n",
    "lusitania_df['Age_tmp'] = lusitania_df['Age_tmp'].astype(float)"
   ]
  },
  {
   "cell_type": "code",
   "execution_count": 43,
   "metadata": {
    "collapsed": false
   },
   "outputs": [
    {
     "data": {
      "text/plain": [
       "array([ 38.  ,  37.  ,  30.  ,  25.  ,  27.  ,  48.  ,    nan,  24.  ,\n",
       "        19.  ,  57.  ,  50.  ,  56.  ,  41.  ,  33.  ,  29.  ,  18.  ,\n",
       "        20.  ,  21.  ,  26.  ,  17.  ,  58.  ,  47.  ,  54.  ,  35.  ,\n",
       "        43.  ,  59.  ,  53.  ,  44.  ,  51.  ,  40.  ,  49.  ,  42.  ,\n",
       "        32.  ,  31.  ,  34.  ,  22.  ,  45.  ,  36.  ,  52.  ,  23.  ,\n",
       "        60.  ,  28.  ,  16.  ,  46.  ,  15.  ,  39.  ,  63.  ,  55.  ,\n",
       "        64.  ,   1.  ,   6.  ,   9.  ,  14.  ,  10.  ,  12.  ,  62.  ,\n",
       "         5.  ,   8.  ,  65.  ,  68.  ,  76.  ,  61.  ,   1.5 ,   2.5 ,\n",
       "         3.  ,   2.  ,   4.  ,  11.  ,   7.  ,  70.  ,  13.  ,  67.  ,\n",
       "        73.  ,  72.  ,   4.25,  69.  ])"
      ]
     },
     "execution_count": 43,
     "metadata": {},
     "output_type": "execute_result"
    }
   ],
   "source": [
    "lusitania_df['Age_tmp'].unique()"
   ]
  },
  {
   "cell_type": "markdown",
   "metadata": {},
   "source": [
    "Similar to what we did in Titanic, have to decide what to with the NaNs.  First examine the differences in mean, median and mode and see if gender skewed the results."
   ]
  },
  {
   "cell_type": "markdown",
   "metadata": {},
   "source": [
    "'Age' Mean"
   ]
  },
  {
   "cell_type": "code",
   "execution_count": 44,
   "metadata": {
    "collapsed": false
   },
   "outputs": [
    {
     "name": "stdout",
     "output_type": "stream",
     "text": [
      "Passenger mean age:  32.3220565749\n",
      "\n",
      "Female mean age  31.2670454545\n",
      "\n",
      "Male mean age  32.8568548387\n"
     ]
    }
   ],
   "source": [
    "print \"Passenger mean age: \", lusitania_df['Age_tmp'].mean()\n",
    "print \"\"\n",
    "print \"Female mean age \", lusitania_df['Age_tmp'][lusitania_df['Sex'] == 'Female'].mean()\n",
    "print \"\"\n",
    "print \"Male mean age \", lusitania_df['Age_tmp'][lusitania_df['Sex'] == 'Male'].mean()"
   ]
  },
  {
   "cell_type": "markdown",
   "metadata": {},
   "source": [
    "'Age' Median"
   ]
  },
  {
   "cell_type": "code",
   "execution_count": 45,
   "metadata": {
    "collapsed": false
   },
   "outputs": [
    {
     "name": "stdout",
     "output_type": "stream",
     "text": [
      "Passenger median age:  32.0\n",
      "\n",
      "Female median age  31.0\n",
      "\n",
      "Male median age  32.0\n"
     ]
    }
   ],
   "source": [
    "print \"Passenger median age: \", lusitania_df['Age_tmp'].median()\n",
    "print \"\"\n",
    "print \"Female median age \", lusitania_df['Age_tmp'][lusitania_df['Sex'] == 'Female'].median()\n",
    "print \"\"\n",
    "print \"Male median age \", lusitania_df['Age_tmp'][lusitania_df['Sex'] == 'Male'].median()"
   ]
  },
  {
   "cell_type": "markdown",
   "metadata": {},
   "source": [
    "Given the output, using a median would be a reasonable replacement for the missing 'age' values."
   ]
  },
  {
   "cell_type": "code",
   "execution_count": 46,
   "metadata": {
    "collapsed": false
   },
   "outputs": [
    {
     "data": {
      "text/plain": [
       "32.0"
      ]
     },
     "execution_count": 46,
     "metadata": {},
     "output_type": "execute_result"
    }
   ],
   "source": [
    "l_age_null_replacement = lusitania_df['Age_tmp'].median()\n",
    "l_age_null_replacement"
   ]
  },
  {
   "cell_type": "code",
   "execution_count": 47,
   "metadata": {
    "collapsed": false
   },
   "outputs": [
    {
     "data": {
      "text/html": [
       "<div>\n",
       "<table border=\"1\" class=\"dataframe\">\n",
       "  <thead>\n",
       "    <tr style=\"text-align: right;\">\n",
       "      <th></th>\n",
       "      <th>Family name</th>\n",
       "      <th>Title</th>\n",
       "      <th>Personal name</th>\n",
       "      <th>Fate</th>\n",
       "      <th>Age</th>\n",
       "      <th>Department/Class</th>\n",
       "      <th>Passenger/Crew</th>\n",
       "      <th>Citizenship</th>\n",
       "      <th>Position</th>\n",
       "      <th>Status</th>\n",
       "      <th>...</th>\n",
       "      <th>Lifeboat</th>\n",
       "      <th>Rescue Vessel</th>\n",
       "      <th>Body No.</th>\n",
       "      <th>Ticket No.</th>\n",
       "      <th>Cabin No.</th>\n",
       "      <th>Traveling Companions and other notes</th>\n",
       "      <th>Value</th>\n",
       "      <th>Adult/Minor</th>\n",
       "      <th>Sex</th>\n",
       "      <th>Age_tmp</th>\n",
       "    </tr>\n",
       "  </thead>\n",
       "  <tbody>\n",
       "    <tr>\n",
       "      <th>0</th>\n",
       "      <td>CAMERON</td>\n",
       "      <td>Mr.</td>\n",
       "      <td>Charles W.</td>\n",
       "      <td>Lost</td>\n",
       "      <td>38</td>\n",
       "      <td>Band</td>\n",
       "      <td>Crew</td>\n",
       "      <td>British</td>\n",
       "      <td>NaN</td>\n",
       "      <td>NaN</td>\n",
       "      <td>...</td>\n",
       "      <td>NaN</td>\n",
       "      <td>NaN</td>\n",
       "      <td>NaN</td>\n",
       "      <td>NaN</td>\n",
       "      <td>NaN</td>\n",
       "      <td>NaN</td>\n",
       "      <td>1</td>\n",
       "      <td>Adult</td>\n",
       "      <td>Male</td>\n",
       "      <td>38.0</td>\n",
       "    </tr>\n",
       "    <tr>\n",
       "      <th>1</th>\n",
       "      <td>CARR-JONES</td>\n",
       "      <td>Mr.</td>\n",
       "      <td>E.</td>\n",
       "      <td>Lost</td>\n",
       "      <td>37</td>\n",
       "      <td>Band</td>\n",
       "      <td>Crew</td>\n",
       "      <td>British</td>\n",
       "      <td>NaN</td>\n",
       "      <td>NaN</td>\n",
       "      <td>...</td>\n",
       "      <td>NaN</td>\n",
       "      <td>NaN</td>\n",
       "      <td>NaN</td>\n",
       "      <td>NaN</td>\n",
       "      <td>NaN</td>\n",
       "      <td>NaN</td>\n",
       "      <td>1</td>\n",
       "      <td>Adult</td>\n",
       "      <td>Male</td>\n",
       "      <td>37.0</td>\n",
       "    </tr>\n",
       "    <tr>\n",
       "      <th>2</th>\n",
       "      <td>DRAKEFORD</td>\n",
       "      <td>Mr.</td>\n",
       "      <td>Edward</td>\n",
       "      <td>Saved</td>\n",
       "      <td>30</td>\n",
       "      <td>Band</td>\n",
       "      <td>Crew</td>\n",
       "      <td>British</td>\n",
       "      <td>Violin</td>\n",
       "      <td>NaN</td>\n",
       "      <td>...</td>\n",
       "      <td>NaN</td>\n",
       "      <td>NaN</td>\n",
       "      <td>NaN</td>\n",
       "      <td>NaN</td>\n",
       "      <td>NaN</td>\n",
       "      <td>NaN</td>\n",
       "      <td>1</td>\n",
       "      <td>Adult</td>\n",
       "      <td>Male</td>\n",
       "      <td>30.0</td>\n",
       "    </tr>\n",
       "    <tr>\n",
       "      <th>3</th>\n",
       "      <td>HAWKINS</td>\n",
       "      <td>Mr.</td>\n",
       "      <td>Handel</td>\n",
       "      <td>Saved</td>\n",
       "      <td>25</td>\n",
       "      <td>Band</td>\n",
       "      <td>Crew</td>\n",
       "      <td>British</td>\n",
       "      <td>Cello</td>\n",
       "      <td>NaN</td>\n",
       "      <td>...</td>\n",
       "      <td>NaN</td>\n",
       "      <td>NaN</td>\n",
       "      <td>NaN</td>\n",
       "      <td>NaN</td>\n",
       "      <td>NaN</td>\n",
       "      <td>NaN</td>\n",
       "      <td>1</td>\n",
       "      <td>Adult</td>\n",
       "      <td>Male</td>\n",
       "      <td>25.0</td>\n",
       "    </tr>\n",
       "    <tr>\n",
       "      <th>4</th>\n",
       "      <td>HEMINGWAY</td>\n",
       "      <td>Mr.</td>\n",
       "      <td>John William</td>\n",
       "      <td>Saved</td>\n",
       "      <td>27</td>\n",
       "      <td>Band</td>\n",
       "      <td>Crew</td>\n",
       "      <td>British</td>\n",
       "      <td>Double Bass</td>\n",
       "      <td>NaN</td>\n",
       "      <td>...</td>\n",
       "      <td>NaN</td>\n",
       "      <td>NaN</td>\n",
       "      <td>NaN</td>\n",
       "      <td>NaN</td>\n",
       "      <td>NaN</td>\n",
       "      <td>NaN</td>\n",
       "      <td>1</td>\n",
       "      <td>Adult</td>\n",
       "      <td>Male</td>\n",
       "      <td>27.0</td>\n",
       "    </tr>\n",
       "  </tbody>\n",
       "</table>\n",
       "<p>5 rows × 24 columns</p>\n",
       "</div>"
      ],
      "text/plain": [
       "  Family name Title Personal name   Fate Age Department/Class Passenger/Crew  \\\n",
       "0     CAMERON   Mr.    Charles W.   Lost  38             Band           Crew   \n",
       "1  CARR-JONES   Mr.            E.   Lost  37             Band           Crew   \n",
       "2   DRAKEFORD   Mr.        Edward  Saved  30             Band           Crew   \n",
       "3     HAWKINS   Mr.        Handel  Saved  25             Band           Crew   \n",
       "4   HEMINGWAY   Mr.  John William  Saved  27             Band           Crew   \n",
       "\n",
       "  Citizenship     Position Status   ...   Lifeboat Rescue Vessel Body No.  \\\n",
       "0     British          NaN    NaN   ...        NaN           NaN      NaN   \n",
       "1     British          NaN    NaN   ...        NaN           NaN      NaN   \n",
       "2     British       Violin    NaN   ...        NaN           NaN      NaN   \n",
       "3     British        Cello    NaN   ...        NaN           NaN      NaN   \n",
       "4     British  Double Bass    NaN   ...        NaN           NaN      NaN   \n",
       "\n",
       "  Ticket No. Cabin No. Traveling Companions and other notes Value Adult/Minor  \\\n",
       "0        NaN       NaN                                  NaN     1       Adult   \n",
       "1        NaN       NaN                                  NaN     1       Adult   \n",
       "2        NaN       NaN                                  NaN     1       Adult   \n",
       "3        NaN       NaN                                  NaN     1       Adult   \n",
       "4        NaN       NaN                                  NaN     1       Adult   \n",
       "\n",
       "    Sex Age_tmp  \n",
       "0  Male    38.0  \n",
       "1  Male    37.0  \n",
       "2  Male    30.0  \n",
       "3  Male    25.0  \n",
       "4  Male    27.0  \n",
       "\n",
       "[5 rows x 24 columns]"
      ]
     },
     "execution_count": 47,
     "metadata": {},
     "output_type": "execute_result"
    }
   ],
   "source": [
    "lusitania_df['Age_tmp'].fillna(l_age_null_replacement, inplace=True)\n",
    "lusitania_df.head()"
   ]
  },
  {
   "cell_type": "code",
   "execution_count": 48,
   "metadata": {
    "collapsed": false
   },
   "outputs": [
    {
     "data": {
      "text/html": [
       "<div>\n",
       "<table border=\"1\" class=\"dataframe\">\n",
       "  <thead>\n",
       "    <tr style=\"text-align: right;\">\n",
       "      <th></th>\n",
       "      <th>Family name</th>\n",
       "      <th>Title</th>\n",
       "      <th>Personal name</th>\n",
       "      <th>Fate</th>\n",
       "      <th>Age</th>\n",
       "      <th>Department/Class</th>\n",
       "      <th>Passenger/Crew</th>\n",
       "      <th>Citizenship</th>\n",
       "      <th>Position</th>\n",
       "      <th>Status</th>\n",
       "      <th>...</th>\n",
       "      <th>Country</th>\n",
       "      <th>Lifeboat</th>\n",
       "      <th>Rescue Vessel</th>\n",
       "      <th>Body No.</th>\n",
       "      <th>Ticket No.</th>\n",
       "      <th>Cabin No.</th>\n",
       "      <th>Traveling Companions and other notes</th>\n",
       "      <th>Value</th>\n",
       "      <th>Adult/Minor</th>\n",
       "      <th>Sex</th>\n",
       "    </tr>\n",
       "  </thead>\n",
       "  <tbody>\n",
       "    <tr>\n",
       "      <th>0</th>\n",
       "      <td>CAMERON</td>\n",
       "      <td>Mr.</td>\n",
       "      <td>Charles W.</td>\n",
       "      <td>Lost</td>\n",
       "      <td>38.0</td>\n",
       "      <td>Band</td>\n",
       "      <td>Crew</td>\n",
       "      <td>British</td>\n",
       "      <td>NaN</td>\n",
       "      <td>NaN</td>\n",
       "      <td>...</td>\n",
       "      <td>NaN</td>\n",
       "      <td>NaN</td>\n",
       "      <td>NaN</td>\n",
       "      <td>NaN</td>\n",
       "      <td>NaN</td>\n",
       "      <td>NaN</td>\n",
       "      <td>NaN</td>\n",
       "      <td>1</td>\n",
       "      <td>Adult</td>\n",
       "      <td>Male</td>\n",
       "    </tr>\n",
       "    <tr>\n",
       "      <th>1</th>\n",
       "      <td>CARR-JONES</td>\n",
       "      <td>Mr.</td>\n",
       "      <td>E.</td>\n",
       "      <td>Lost</td>\n",
       "      <td>37.0</td>\n",
       "      <td>Band</td>\n",
       "      <td>Crew</td>\n",
       "      <td>British</td>\n",
       "      <td>NaN</td>\n",
       "      <td>NaN</td>\n",
       "      <td>...</td>\n",
       "      <td>NaN</td>\n",
       "      <td>NaN</td>\n",
       "      <td>NaN</td>\n",
       "      <td>NaN</td>\n",
       "      <td>NaN</td>\n",
       "      <td>NaN</td>\n",
       "      <td>NaN</td>\n",
       "      <td>1</td>\n",
       "      <td>Adult</td>\n",
       "      <td>Male</td>\n",
       "    </tr>\n",
       "    <tr>\n",
       "      <th>2</th>\n",
       "      <td>DRAKEFORD</td>\n",
       "      <td>Mr.</td>\n",
       "      <td>Edward</td>\n",
       "      <td>Saved</td>\n",
       "      <td>30.0</td>\n",
       "      <td>Band</td>\n",
       "      <td>Crew</td>\n",
       "      <td>British</td>\n",
       "      <td>Violin</td>\n",
       "      <td>NaN</td>\n",
       "      <td>...</td>\n",
       "      <td>NaN</td>\n",
       "      <td>NaN</td>\n",
       "      <td>NaN</td>\n",
       "      <td>NaN</td>\n",
       "      <td>NaN</td>\n",
       "      <td>NaN</td>\n",
       "      <td>NaN</td>\n",
       "      <td>1</td>\n",
       "      <td>Adult</td>\n",
       "      <td>Male</td>\n",
       "    </tr>\n",
       "    <tr>\n",
       "      <th>3</th>\n",
       "      <td>HAWKINS</td>\n",
       "      <td>Mr.</td>\n",
       "      <td>Handel</td>\n",
       "      <td>Saved</td>\n",
       "      <td>25.0</td>\n",
       "      <td>Band</td>\n",
       "      <td>Crew</td>\n",
       "      <td>British</td>\n",
       "      <td>Cello</td>\n",
       "      <td>NaN</td>\n",
       "      <td>...</td>\n",
       "      <td>NaN</td>\n",
       "      <td>NaN</td>\n",
       "      <td>NaN</td>\n",
       "      <td>NaN</td>\n",
       "      <td>NaN</td>\n",
       "      <td>NaN</td>\n",
       "      <td>NaN</td>\n",
       "      <td>1</td>\n",
       "      <td>Adult</td>\n",
       "      <td>Male</td>\n",
       "    </tr>\n",
       "    <tr>\n",
       "      <th>4</th>\n",
       "      <td>HEMINGWAY</td>\n",
       "      <td>Mr.</td>\n",
       "      <td>John William</td>\n",
       "      <td>Saved</td>\n",
       "      <td>27.0</td>\n",
       "      <td>Band</td>\n",
       "      <td>Crew</td>\n",
       "      <td>British</td>\n",
       "      <td>Double Bass</td>\n",
       "      <td>NaN</td>\n",
       "      <td>...</td>\n",
       "      <td>NaN</td>\n",
       "      <td>NaN</td>\n",
       "      <td>NaN</td>\n",
       "      <td>NaN</td>\n",
       "      <td>NaN</td>\n",
       "      <td>NaN</td>\n",
       "      <td>NaN</td>\n",
       "      <td>1</td>\n",
       "      <td>Adult</td>\n",
       "      <td>Male</td>\n",
       "    </tr>\n",
       "  </tbody>\n",
       "</table>\n",
       "<p>5 rows × 23 columns</p>\n",
       "</div>"
      ],
      "text/plain": [
       "  Family name Title Personal name   Fate   Age Department/Class  \\\n",
       "0     CAMERON   Mr.    Charles W.   Lost  38.0             Band   \n",
       "1  CARR-JONES   Mr.            E.   Lost  37.0             Band   \n",
       "2   DRAKEFORD   Mr.        Edward  Saved  30.0             Band   \n",
       "3     HAWKINS   Mr.        Handel  Saved  25.0             Band   \n",
       "4   HEMINGWAY   Mr.  John William  Saved  27.0             Band   \n",
       "\n",
       "  Passenger/Crew Citizenship     Position Status  ...  Country Lifeboat  \\\n",
       "0           Crew     British          NaN    NaN  ...      NaN      NaN   \n",
       "1           Crew     British          NaN    NaN  ...      NaN      NaN   \n",
       "2           Crew     British       Violin    NaN  ...      NaN      NaN   \n",
       "3           Crew     British        Cello    NaN  ...      NaN      NaN   \n",
       "4           Crew     British  Double Bass    NaN  ...      NaN      NaN   \n",
       "\n",
       "  Rescue Vessel Body No. Ticket No. Cabin No.  \\\n",
       "0           NaN      NaN        NaN       NaN   \n",
       "1           NaN      NaN        NaN       NaN   \n",
       "2           NaN      NaN        NaN       NaN   \n",
       "3           NaN      NaN        NaN       NaN   \n",
       "4           NaN      NaN        NaN       NaN   \n",
       "\n",
       "  Traveling Companions and other notes Value Adult/Minor   Sex  \n",
       "0                                  NaN     1       Adult  Male  \n",
       "1                                  NaN     1       Adult  Male  \n",
       "2                                  NaN     1       Adult  Male  \n",
       "3                                  NaN     1       Adult  Male  \n",
       "4                                  NaN     1       Adult  Male  \n",
       "\n",
       "[5 rows x 23 columns]"
      ]
     },
     "execution_count": 48,
     "metadata": {},
     "output_type": "execute_result"
    }
   ],
   "source": [
    "# Now that 'Age_tmp' is cleaned up, set equal to 'Age' and drop the tmp column\n",
    "lusitania_df['Age'] = lusitania_df['Age_tmp']\n",
    "lusitania_df.drop('Age_tmp', inplace=True, axis=1)\n",
    "lusitania_df.head()"
   ]
  },
  {
   "cell_type": "markdown",
   "metadata": {},
   "source": [
    "##### Making the Lusitania data comparable to Titanic to eventually get apples to apples comparisons between the two disasters\n",
    "\n",
    "Lusitania data contains information on crew members, whereas the Titanic data set excluded\n",
    "the crew.  As the crew (the ones not manning the lifeboats) were expected to ensure passenger\n",
    "survival above their own, it would expected a priori that survival rates for crew to be\n",
    "significantly lower than for passengers.\n"
   ]
  },
  {
   "cell_type": "markdown",
   "metadata": {},
   "source": [
    "Dropping the crew - left with Passengers and Stowaways\n",
    "\n",
    "Made the decision to drop Stowaways as well due to there was not any other data besides that they were male (German spies) and they survived.  There were only 3 stowaways relative to 1265 passengers.  Making the judgement call tha ignoring them should not impact our results."
   ]
  },
  {
   "cell_type": "code",
   "execution_count": 49,
   "metadata": {
    "collapsed": false
   },
   "outputs": [
    {
     "data": {
      "text/html": [
       "<div>\n",
       "<table border=\"1\" class=\"dataframe\">\n",
       "  <thead>\n",
       "    <tr style=\"text-align: right;\">\n",
       "      <th></th>\n",
       "      <th>Family name</th>\n",
       "      <th>Title</th>\n",
       "      <th>Personal name</th>\n",
       "      <th>Fate</th>\n",
       "      <th>Age</th>\n",
       "      <th>Department/Class</th>\n",
       "      <th>Passenger/Crew</th>\n",
       "      <th>Citizenship</th>\n",
       "      <th>Position</th>\n",
       "      <th>Status</th>\n",
       "      <th>...</th>\n",
       "      <th>Country</th>\n",
       "      <th>Lifeboat</th>\n",
       "      <th>Rescue Vessel</th>\n",
       "      <th>Body No.</th>\n",
       "      <th>Ticket No.</th>\n",
       "      <th>Cabin No.</th>\n",
       "      <th>Traveling Companions and other notes</th>\n",
       "      <th>Value</th>\n",
       "      <th>Adult/Minor</th>\n",
       "      <th>Sex</th>\n",
       "    </tr>\n",
       "  </thead>\n",
       "  <tbody>\n",
       "    <tr>\n",
       "      <th>1279</th>\n",
       "      <td>UNKNOWN</td>\n",
       "      <td>Mr.</td>\n",
       "      <td>NaN</td>\n",
       "      <td>Lost</td>\n",
       "      <td>32.0</td>\n",
       "      <td>Stowaway</td>\n",
       "      <td>Stowaway</td>\n",
       "      <td>German</td>\n",
       "      <td>NaN</td>\n",
       "      <td>NaN</td>\n",
       "      <td>...</td>\n",
       "      <td>NaN</td>\n",
       "      <td>NaN</td>\n",
       "      <td>NaN</td>\n",
       "      <td>NaN</td>\n",
       "      <td>NaN</td>\n",
       "      <td>NaN</td>\n",
       "      <td>German spy arrested by Inspector Pierpont, los...</td>\n",
       "      <td>1</td>\n",
       "      <td>Adult</td>\n",
       "      <td>Male</td>\n",
       "    </tr>\n",
       "    <tr>\n",
       "      <th>1280</th>\n",
       "      <td>UNKNOWN</td>\n",
       "      <td>Mr.</td>\n",
       "      <td>NaN</td>\n",
       "      <td>Lost</td>\n",
       "      <td>32.0</td>\n",
       "      <td>Stowaway</td>\n",
       "      <td>Stowaway</td>\n",
       "      <td>German</td>\n",
       "      <td>NaN</td>\n",
       "      <td>NaN</td>\n",
       "      <td>...</td>\n",
       "      <td>NaN</td>\n",
       "      <td>NaN</td>\n",
       "      <td>NaN</td>\n",
       "      <td>NaN</td>\n",
       "      <td>NaN</td>\n",
       "      <td>NaN</td>\n",
       "      <td>German spy arrested by Inspector Pierpont, los...</td>\n",
       "      <td>1</td>\n",
       "      <td>Adult</td>\n",
       "      <td>Male</td>\n",
       "    </tr>\n",
       "    <tr>\n",
       "      <th>1281</th>\n",
       "      <td>UNKNOWN</td>\n",
       "      <td>Mr.</td>\n",
       "      <td>NaN</td>\n",
       "      <td>Lost</td>\n",
       "      <td>32.0</td>\n",
       "      <td>Stowaway</td>\n",
       "      <td>Stowaway</td>\n",
       "      <td>German</td>\n",
       "      <td>NaN</td>\n",
       "      <td>NaN</td>\n",
       "      <td>...</td>\n",
       "      <td>NaN</td>\n",
       "      <td>NaN</td>\n",
       "      <td>NaN</td>\n",
       "      <td>NaN</td>\n",
       "      <td>NaN</td>\n",
       "      <td>NaN</td>\n",
       "      <td>German spy arrested by Inspector Pierpont, los...</td>\n",
       "      <td>1</td>\n",
       "      <td>Adult</td>\n",
       "      <td>Male</td>\n",
       "    </tr>\n",
       "  </tbody>\n",
       "</table>\n",
       "<p>3 rows × 23 columns</p>\n",
       "</div>"
      ],
      "text/plain": [
       "     Family name Title Personal name  Fate   Age Department/Class  \\\n",
       "1279     UNKNOWN  Mr.            NaN  Lost  32.0         Stowaway   \n",
       "1280     UNKNOWN  Mr.            NaN  Lost  32.0         Stowaway   \n",
       "1281     UNKNOWN  Mr.            NaN  Lost  32.0         Stowaway   \n",
       "\n",
       "     Passenger/Crew Citizenship Position Status  ...  Country Lifeboat  \\\n",
       "1279       Stowaway      German      NaN    NaN  ...      NaN      NaN   \n",
       "1280       Stowaway      German      NaN    NaN  ...      NaN      NaN   \n",
       "1281       Stowaway      German      NaN    NaN  ...      NaN      NaN   \n",
       "\n",
       "     Rescue Vessel Body No. Ticket No. Cabin No.  \\\n",
       "1279           NaN      NaN        NaN       NaN   \n",
       "1280           NaN      NaN        NaN       NaN   \n",
       "1281           NaN      NaN        NaN       NaN   \n",
       "\n",
       "                   Traveling Companions and other notes Value Adult/Minor  \\\n",
       "1279  German spy arrested by Inspector Pierpont, los...     1       Adult   \n",
       "1280  German spy arrested by Inspector Pierpont, los...     1       Adult   \n",
       "1281  German spy arrested by Inspector Pierpont, los...     1       Adult   \n",
       "\n",
       "       Sex  \n",
       "1279  Male  \n",
       "1280  Male  \n",
       "1281  Male  \n",
       "\n",
       "[3 rows x 23 columns]"
      ]
     },
     "execution_count": 49,
     "metadata": {},
     "output_type": "execute_result"
    }
   ],
   "source": [
    "stowaways = lusitania_df.loc[lusitania_df['Passenger/Crew'] == 'Stowaway']\n",
    "stowaways.head()"
   ]
  },
  {
   "cell_type": "code",
   "execution_count": 50,
   "metadata": {
    "collapsed": false
   },
   "outputs": [
    {
     "data": {
      "text/html": [
       "<div>\n",
       "<table border=\"1\" class=\"dataframe\">\n",
       "  <thead>\n",
       "    <tr style=\"text-align: right;\">\n",
       "      <th></th>\n",
       "      <th>Family name</th>\n",
       "      <th>Title</th>\n",
       "      <th>Personal name</th>\n",
       "      <th>Fate</th>\n",
       "      <th>Age</th>\n",
       "      <th>Department/Class</th>\n",
       "      <th>Passenger/Crew</th>\n",
       "      <th>Citizenship</th>\n",
       "      <th>Position</th>\n",
       "      <th>Status</th>\n",
       "      <th>...</th>\n",
       "      <th>Country</th>\n",
       "      <th>Lifeboat</th>\n",
       "      <th>Rescue Vessel</th>\n",
       "      <th>Body No.</th>\n",
       "      <th>Ticket No.</th>\n",
       "      <th>Cabin No.</th>\n",
       "      <th>Traveling Companions and other notes</th>\n",
       "      <th>Value</th>\n",
       "      <th>Adult/Minor</th>\n",
       "      <th>Sex</th>\n",
       "    </tr>\n",
       "  </thead>\n",
       "  <tbody>\n",
       "    <tr>\n",
       "      <th>387</th>\n",
       "      <td>ADAMS</td>\n",
       "      <td>Mr.</td>\n",
       "      <td>William McMillan</td>\n",
       "      <td>Saved</td>\n",
       "      <td>19.0</td>\n",
       "      <td>Saloon</td>\n",
       "      <td>Passenger</td>\n",
       "      <td>USA</td>\n",
       "      <td>NaN</td>\n",
       "      <td>Single</td>\n",
       "      <td>...</td>\n",
       "      <td>England</td>\n",
       "      <td>17</td>\n",
       "      <td>NaN</td>\n",
       "      <td>NaN</td>\n",
       "      <td>46102</td>\n",
       "      <td>D 45</td>\n",
       "      <td>Arthur Adams (father)</td>\n",
       "      <td>1</td>\n",
       "      <td>Adult</td>\n",
       "      <td>Male</td>\n",
       "    </tr>\n",
       "    <tr>\n",
       "      <th>388</th>\n",
       "      <td>ADAMS</td>\n",
       "      <td>Mr.</td>\n",
       "      <td>Arthur Henry</td>\n",
       "      <td>Lost</td>\n",
       "      <td>46.0</td>\n",
       "      <td>Saloon</td>\n",
       "      <td>Passenger</td>\n",
       "      <td>USA</td>\n",
       "      <td>NaN</td>\n",
       "      <td>Married</td>\n",
       "      <td>...</td>\n",
       "      <td>England</td>\n",
       "      <td>17</td>\n",
       "      <td>NaN</td>\n",
       "      <td>NaN</td>\n",
       "      <td>46102</td>\n",
       "      <td>D 37</td>\n",
       "      <td>William Adams (son)</td>\n",
       "      <td>1</td>\n",
       "      <td>Adult</td>\n",
       "      <td>Male</td>\n",
       "    </tr>\n",
       "    <tr>\n",
       "      <th>389</th>\n",
       "      <td>ADAMS</td>\n",
       "      <td>Mr.</td>\n",
       "      <td>Henry</td>\n",
       "      <td>Lost</td>\n",
       "      <td>58.0</td>\n",
       "      <td>Saloon</td>\n",
       "      <td>Passenger</td>\n",
       "      <td>British</td>\n",
       "      <td>NaN</td>\n",
       "      <td>Married</td>\n",
       "      <td>...</td>\n",
       "      <td>England</td>\n",
       "      <td>NaN</td>\n",
       "      <td>NaN</td>\n",
       "      <td>237</td>\n",
       "      <td>1298</td>\n",
       "      <td>B 27</td>\n",
       "      <td>Annie Adams (wife)</td>\n",
       "      <td>1</td>\n",
       "      <td>Adult</td>\n",
       "      <td>Male</td>\n",
       "    </tr>\n",
       "    <tr>\n",
       "      <th>390</th>\n",
       "      <td>ADAMS</td>\n",
       "      <td>Mrs.</td>\n",
       "      <td>Henry (Annie Elizabeth Macnutt)</td>\n",
       "      <td>Saved</td>\n",
       "      <td>46.0</td>\n",
       "      <td>Saloon</td>\n",
       "      <td>Passenger</td>\n",
       "      <td>British</td>\n",
       "      <td>NaN</td>\n",
       "      <td>Married</td>\n",
       "      <td>...</td>\n",
       "      <td>Canada and USA</td>\n",
       "      <td>NaN</td>\n",
       "      <td>NaN</td>\n",
       "      <td>NaN</td>\n",
       "      <td>1298</td>\n",
       "      <td>B 27</td>\n",
       "      <td>Henry Adams (husband)</td>\n",
       "      <td>1</td>\n",
       "      <td>Adult</td>\n",
       "      <td>Female</td>\n",
       "    </tr>\n",
       "    <tr>\n",
       "      <th>391</th>\n",
       "      <td>ALLAN</td>\n",
       "      <td>Lady</td>\n",
       "      <td>Hugh Montagu (Marguerite Ethel MacKenzie)</td>\n",
       "      <td>Saved</td>\n",
       "      <td>42.0</td>\n",
       "      <td>Saloon</td>\n",
       "      <td>Passenger</td>\n",
       "      <td>British</td>\n",
       "      <td>NaN</td>\n",
       "      <td>Married</td>\n",
       "      <td>...</td>\n",
       "      <td>Canada</td>\n",
       "      <td>collapsible (22?)</td>\n",
       "      <td>Westborough (Katrina)</td>\n",
       "      <td>NaN</td>\n",
       "      <td>12933</td>\n",
       "      <td>B 47, B 49 (regal suite and bath)</td>\n",
       "      <td>Anna Allan (daughter), Gwendolyn Allan (daught...</td>\n",
       "      <td>1</td>\n",
       "      <td>Adult</td>\n",
       "      <td>Female</td>\n",
       "    </tr>\n",
       "  </tbody>\n",
       "</table>\n",
       "<p>5 rows × 23 columns</p>\n",
       "</div>"
      ],
      "text/plain": [
       "    Family name Title                              Personal name   Fate   Age  \\\n",
       "387       ADAMS   Mr.                           William McMillan  Saved  19.0   \n",
       "388       ADAMS   Mr.                               Arthur Henry   Lost  46.0   \n",
       "389       ADAMS   Mr.                                      Henry   Lost  58.0   \n",
       "390       ADAMS  Mrs.            Henry (Annie Elizabeth Macnutt)  Saved  46.0   \n",
       "391       ALLAN  Lady  Hugh Montagu (Marguerite Ethel MacKenzie)  Saved  42.0   \n",
       "\n",
       "    Department/Class Passenger/Crew Citizenship Position   Status   ...    \\\n",
       "387           Saloon      Passenger         USA      NaN   Single   ...     \n",
       "388           Saloon      Passenger         USA      NaN  Married   ...     \n",
       "389           Saloon      Passenger     British      NaN  Married   ...     \n",
       "390           Saloon      Passenger     British      NaN  Married   ...     \n",
       "391           Saloon      Passenger     British      NaN  Married   ...     \n",
       "\n",
       "            Country           Lifeboat          Rescue Vessel Body No.  \\\n",
       "387         England                 17                    NaN      NaN   \n",
       "388         England                 17                    NaN      NaN   \n",
       "389         England                NaN                    NaN      237   \n",
       "390  Canada and USA                NaN                    NaN      NaN   \n",
       "391          Canada  collapsible (22?)  Westborough (Katrina)      NaN   \n",
       "\n",
       "    Ticket No.                          Cabin No.  \\\n",
       "387      46102                               D 45   \n",
       "388      46102                               D 37   \n",
       "389       1298                               B 27   \n",
       "390       1298                               B 27   \n",
       "391      12933  B 47, B 49 (regal suite and bath)   \n",
       "\n",
       "                  Traveling Companions and other notes Value Adult/Minor  \\\n",
       "387                              Arthur Adams (father)     1       Adult   \n",
       "388                                William Adams (son)     1       Adult   \n",
       "389                                 Annie Adams (wife)     1       Adult   \n",
       "390                              Henry Adams (husband)     1       Adult   \n",
       "391  Anna Allan (daughter), Gwendolyn Allan (daught...     1       Adult   \n",
       "\n",
       "        Sex  \n",
       "387    Male  \n",
       "388    Male  \n",
       "389    Male  \n",
       "390  Female  \n",
       "391  Female  \n",
       "\n",
       "[5 rows x 23 columns]"
      ]
     },
     "execution_count": 50,
     "metadata": {},
     "output_type": "execute_result"
    }
   ],
   "source": [
    "lusitania_df = lusitania_df.loc[lusitania_df['Passenger/Crew'] == 'Passenger']\n",
    "lusitania_df.head()"
   ]
  },
  {
   "cell_type": "code",
   "execution_count": 51,
   "metadata": {
    "collapsed": false
   },
   "outputs": [
    {
     "data": {
      "text/plain": [
       "array(['Passenger'], dtype=object)"
      ]
     },
     "execution_count": 51,
     "metadata": {},
     "output_type": "execute_result"
    }
   ],
   "source": [
    "lusitania_df['Passenger/Crew'].unique()"
   ]
  },
  {
   "cell_type": "code",
   "execution_count": 52,
   "metadata": {
    "collapsed": false
   },
   "outputs": [
    {
     "data": {
      "text/plain": [
       "array(['Saloon', 'Second', 'Third', 'Third (Distressed British Seaman)'], dtype=object)"
      ]
     },
     "execution_count": 52,
     "metadata": {},
     "output_type": "execute_result"
    }
   ],
   "source": [
    "lusitania_df['Department/Class'].unique()"
   ]
  },
  {
   "cell_type": "markdown",
   "metadata": {},
   "source": [
    "##### This section takes values from 'Fate' to make a column comparable to the 'Survived' column in Titanic\n",
    "\n",
    "Simplify classifications to Survived = 1 to Died = 0"
   ]
  },
  {
   "cell_type": "code",
   "execution_count": 53,
   "metadata": {
    "collapsed": false
   },
   "outputs": [
    {
     "data": {
      "text/plain": [
       "array(['Saved', 'Lost', 'Saved (died from trauma)', 'Not on board'], dtype=object)"
      ]
     },
     "execution_count": 53,
     "metadata": {},
     "output_type": "execute_result"
    }
   ],
   "source": [
    "lusitania_df['Fate'].unique()"
   ]
  },
  {
   "cell_type": "code",
   "execution_count": 54,
   "metadata": {
    "collapsed": false
   },
   "outputs": [
    {
     "data": {
      "text/html": [
       "<div>\n",
       "<table border=\"1\" class=\"dataframe\">\n",
       "  <thead>\n",
       "    <tr style=\"text-align: right;\">\n",
       "      <th></th>\n",
       "      <th>Family name</th>\n",
       "      <th>Title</th>\n",
       "      <th>Personal name</th>\n",
       "      <th>Fate</th>\n",
       "      <th>Age</th>\n",
       "      <th>Department/Class</th>\n",
       "      <th>Passenger/Crew</th>\n",
       "      <th>Citizenship</th>\n",
       "      <th>Position</th>\n",
       "      <th>Status</th>\n",
       "      <th>...</th>\n",
       "      <th>Lifeboat</th>\n",
       "      <th>Rescue Vessel</th>\n",
       "      <th>Body No.</th>\n",
       "      <th>Ticket No.</th>\n",
       "      <th>Cabin No.</th>\n",
       "      <th>Traveling Companions and other notes</th>\n",
       "      <th>Value</th>\n",
       "      <th>Adult/Minor</th>\n",
       "      <th>Sex</th>\n",
       "      <th>Survived</th>\n",
       "    </tr>\n",
       "  </thead>\n",
       "  <tbody>\n",
       "    <tr>\n",
       "      <th>387</th>\n",
       "      <td>ADAMS</td>\n",
       "      <td>Mr.</td>\n",
       "      <td>William McMillan</td>\n",
       "      <td>Saved</td>\n",
       "      <td>19.0</td>\n",
       "      <td>Saloon</td>\n",
       "      <td>Passenger</td>\n",
       "      <td>USA</td>\n",
       "      <td>NaN</td>\n",
       "      <td>Single</td>\n",
       "      <td>...</td>\n",
       "      <td>17</td>\n",
       "      <td>NaN</td>\n",
       "      <td>NaN</td>\n",
       "      <td>46102</td>\n",
       "      <td>D 45</td>\n",
       "      <td>Arthur Adams (father)</td>\n",
       "      <td>1</td>\n",
       "      <td>Adult</td>\n",
       "      <td>Male</td>\n",
       "      <td>1</td>\n",
       "    </tr>\n",
       "    <tr>\n",
       "      <th>388</th>\n",
       "      <td>ADAMS</td>\n",
       "      <td>Mr.</td>\n",
       "      <td>Arthur Henry</td>\n",
       "      <td>Lost</td>\n",
       "      <td>46.0</td>\n",
       "      <td>Saloon</td>\n",
       "      <td>Passenger</td>\n",
       "      <td>USA</td>\n",
       "      <td>NaN</td>\n",
       "      <td>Married</td>\n",
       "      <td>...</td>\n",
       "      <td>17</td>\n",
       "      <td>NaN</td>\n",
       "      <td>NaN</td>\n",
       "      <td>46102</td>\n",
       "      <td>D 37</td>\n",
       "      <td>William Adams (son)</td>\n",
       "      <td>1</td>\n",
       "      <td>Adult</td>\n",
       "      <td>Male</td>\n",
       "      <td>0</td>\n",
       "    </tr>\n",
       "    <tr>\n",
       "      <th>389</th>\n",
       "      <td>ADAMS</td>\n",
       "      <td>Mr.</td>\n",
       "      <td>Henry</td>\n",
       "      <td>Lost</td>\n",
       "      <td>58.0</td>\n",
       "      <td>Saloon</td>\n",
       "      <td>Passenger</td>\n",
       "      <td>British</td>\n",
       "      <td>NaN</td>\n",
       "      <td>Married</td>\n",
       "      <td>...</td>\n",
       "      <td>NaN</td>\n",
       "      <td>NaN</td>\n",
       "      <td>237</td>\n",
       "      <td>1298</td>\n",
       "      <td>B 27</td>\n",
       "      <td>Annie Adams (wife)</td>\n",
       "      <td>1</td>\n",
       "      <td>Adult</td>\n",
       "      <td>Male</td>\n",
       "      <td>0</td>\n",
       "    </tr>\n",
       "    <tr>\n",
       "      <th>390</th>\n",
       "      <td>ADAMS</td>\n",
       "      <td>Mrs.</td>\n",
       "      <td>Henry (Annie Elizabeth Macnutt)</td>\n",
       "      <td>Saved</td>\n",
       "      <td>46.0</td>\n",
       "      <td>Saloon</td>\n",
       "      <td>Passenger</td>\n",
       "      <td>British</td>\n",
       "      <td>NaN</td>\n",
       "      <td>Married</td>\n",
       "      <td>...</td>\n",
       "      <td>NaN</td>\n",
       "      <td>NaN</td>\n",
       "      <td>NaN</td>\n",
       "      <td>1298</td>\n",
       "      <td>B 27</td>\n",
       "      <td>Henry Adams (husband)</td>\n",
       "      <td>1</td>\n",
       "      <td>Adult</td>\n",
       "      <td>Female</td>\n",
       "      <td>1</td>\n",
       "    </tr>\n",
       "    <tr>\n",
       "      <th>391</th>\n",
       "      <td>ALLAN</td>\n",
       "      <td>Lady</td>\n",
       "      <td>Hugh Montagu (Marguerite Ethel MacKenzie)</td>\n",
       "      <td>Saved</td>\n",
       "      <td>42.0</td>\n",
       "      <td>Saloon</td>\n",
       "      <td>Passenger</td>\n",
       "      <td>British</td>\n",
       "      <td>NaN</td>\n",
       "      <td>Married</td>\n",
       "      <td>...</td>\n",
       "      <td>collapsible (22?)</td>\n",
       "      <td>Westborough (Katrina)</td>\n",
       "      <td>NaN</td>\n",
       "      <td>12933</td>\n",
       "      <td>B 47, B 49 (regal suite and bath)</td>\n",
       "      <td>Anna Allan (daughter), Gwendolyn Allan (daught...</td>\n",
       "      <td>1</td>\n",
       "      <td>Adult</td>\n",
       "      <td>Female</td>\n",
       "      <td>1</td>\n",
       "    </tr>\n",
       "  </tbody>\n",
       "</table>\n",
       "<p>5 rows × 24 columns</p>\n",
       "</div>"
      ],
      "text/plain": [
       "    Family name Title                              Personal name   Fate   Age  \\\n",
       "387       ADAMS   Mr.                           William McMillan  Saved  19.0   \n",
       "388       ADAMS   Mr.                               Arthur Henry   Lost  46.0   \n",
       "389       ADAMS   Mr.                                      Henry   Lost  58.0   \n",
       "390       ADAMS  Mrs.            Henry (Annie Elizabeth Macnutt)  Saved  46.0   \n",
       "391       ALLAN  Lady  Hugh Montagu (Marguerite Ethel MacKenzie)  Saved  42.0   \n",
       "\n",
       "    Department/Class Passenger/Crew Citizenship Position   Status   ...     \\\n",
       "387           Saloon      Passenger         USA      NaN   Single   ...      \n",
       "388           Saloon      Passenger         USA      NaN  Married   ...      \n",
       "389           Saloon      Passenger     British      NaN  Married   ...      \n",
       "390           Saloon      Passenger     British      NaN  Married   ...      \n",
       "391           Saloon      Passenger     British      NaN  Married   ...      \n",
       "\n",
       "              Lifeboat          Rescue Vessel Body No. Ticket No.  \\\n",
       "387                 17                    NaN      NaN      46102   \n",
       "388                 17                    NaN      NaN      46102   \n",
       "389                NaN                    NaN      237       1298   \n",
       "390                NaN                    NaN      NaN       1298   \n",
       "391  collapsible (22?)  Westborough (Katrina)      NaN      12933   \n",
       "\n",
       "                             Cabin No.  \\\n",
       "387                               D 45   \n",
       "388                               D 37   \n",
       "389                               B 27   \n",
       "390                               B 27   \n",
       "391  B 47, B 49 (regal suite and bath)   \n",
       "\n",
       "                  Traveling Companions and other notes Value Adult/Minor  \\\n",
       "387                              Arthur Adams (father)     1       Adult   \n",
       "388                                William Adams (son)     1       Adult   \n",
       "389                                 Annie Adams (wife)     1       Adult   \n",
       "390                              Henry Adams (husband)     1       Adult   \n",
       "391  Anna Allan (daughter), Gwendolyn Allan (daught...     1       Adult   \n",
       "\n",
       "        Sex Survived  \n",
       "387    Male        1  \n",
       "388    Male        0  \n",
       "389    Male        0  \n",
       "390  Female        1  \n",
       "391  Female        1  \n",
       "\n",
       "[5 rows x 24 columns]"
      ]
     },
     "execution_count": 54,
     "metadata": {},
     "output_type": "execute_result"
    }
   ],
   "source": [
    "lusitania_df['Survived'] = lusitania_df['Fate'].apply(lambda x: 1 if x == 'Saved' else 0)\n",
    "lusitania_df.head()"
   ]
  },
  {
   "cell_type": "code",
   "execution_count": 55,
   "metadata": {
    "collapsed": false
   },
   "outputs": [
    {
     "data": {
      "text/plain": [
       "array([1, 0])"
      ]
     },
     "execution_count": 55,
     "metadata": {},
     "output_type": "execute_result"
    }
   ],
   "source": [
    "lusitania_df['Survived'].unique()"
   ]
  },
  {
   "cell_type": "markdown",
   "metadata": {},
   "source": [
    "##### Creating a Column comparable to pclass in Titanic based on Department/Class"
   ]
  },
  {
   "cell_type": "code",
   "execution_count": 56,
   "metadata": {
    "collapsed": false
   },
   "outputs": [
    {
     "data": {
      "text/plain": [
       "array(['Saloon', 'Second', 'Third', 'Third (Distressed British Seaman)'], dtype=object)"
      ]
     },
     "execution_count": 56,
     "metadata": {},
     "output_type": "execute_result"
    }
   ],
   "source": [
    "lusitania_df['Department/Class'].unique()"
   ]
  },
  {
   "cell_type": "code",
   "execution_count": 57,
   "metadata": {
    "collapsed": false
   },
   "outputs": [
    {
     "data": {
      "text/html": [
       "<div>\n",
       "<table border=\"1\" class=\"dataframe\">\n",
       "  <thead>\n",
       "    <tr style=\"text-align: right;\">\n",
       "      <th></th>\n",
       "      <th>Family name</th>\n",
       "      <th>Title</th>\n",
       "      <th>Personal name</th>\n",
       "      <th>Fate</th>\n",
       "      <th>Age</th>\n",
       "      <th>Department/Class</th>\n",
       "      <th>Passenger/Crew</th>\n",
       "      <th>Citizenship</th>\n",
       "      <th>Position</th>\n",
       "      <th>Status</th>\n",
       "      <th>...</th>\n",
       "      <th>Rescue Vessel</th>\n",
       "      <th>Body No.</th>\n",
       "      <th>Ticket No.</th>\n",
       "      <th>Cabin No.</th>\n",
       "      <th>Traveling Companions and other notes</th>\n",
       "      <th>Value</th>\n",
       "      <th>Adult/Minor</th>\n",
       "      <th>Sex</th>\n",
       "      <th>Survived</th>\n",
       "      <th>pclass</th>\n",
       "    </tr>\n",
       "  </thead>\n",
       "  <tbody>\n",
       "    <tr>\n",
       "      <th>387</th>\n",
       "      <td>ADAMS</td>\n",
       "      <td>Mr.</td>\n",
       "      <td>William McMillan</td>\n",
       "      <td>Saved</td>\n",
       "      <td>19.0</td>\n",
       "      <td>Saloon</td>\n",
       "      <td>Passenger</td>\n",
       "      <td>USA</td>\n",
       "      <td>NaN</td>\n",
       "      <td>Single</td>\n",
       "      <td>...</td>\n",
       "      <td>NaN</td>\n",
       "      <td>NaN</td>\n",
       "      <td>46102</td>\n",
       "      <td>D 45</td>\n",
       "      <td>Arthur Adams (father)</td>\n",
       "      <td>1</td>\n",
       "      <td>Adult</td>\n",
       "      <td>Male</td>\n",
       "      <td>1</td>\n",
       "      <td>1.0</td>\n",
       "    </tr>\n",
       "    <tr>\n",
       "      <th>388</th>\n",
       "      <td>ADAMS</td>\n",
       "      <td>Mr.</td>\n",
       "      <td>Arthur Henry</td>\n",
       "      <td>Lost</td>\n",
       "      <td>46.0</td>\n",
       "      <td>Saloon</td>\n",
       "      <td>Passenger</td>\n",
       "      <td>USA</td>\n",
       "      <td>NaN</td>\n",
       "      <td>Married</td>\n",
       "      <td>...</td>\n",
       "      <td>NaN</td>\n",
       "      <td>NaN</td>\n",
       "      <td>46102</td>\n",
       "      <td>D 37</td>\n",
       "      <td>William Adams (son)</td>\n",
       "      <td>1</td>\n",
       "      <td>Adult</td>\n",
       "      <td>Male</td>\n",
       "      <td>0</td>\n",
       "      <td>1.0</td>\n",
       "    </tr>\n",
       "    <tr>\n",
       "      <th>389</th>\n",
       "      <td>ADAMS</td>\n",
       "      <td>Mr.</td>\n",
       "      <td>Henry</td>\n",
       "      <td>Lost</td>\n",
       "      <td>58.0</td>\n",
       "      <td>Saloon</td>\n",
       "      <td>Passenger</td>\n",
       "      <td>British</td>\n",
       "      <td>NaN</td>\n",
       "      <td>Married</td>\n",
       "      <td>...</td>\n",
       "      <td>NaN</td>\n",
       "      <td>237</td>\n",
       "      <td>1298</td>\n",
       "      <td>B 27</td>\n",
       "      <td>Annie Adams (wife)</td>\n",
       "      <td>1</td>\n",
       "      <td>Adult</td>\n",
       "      <td>Male</td>\n",
       "      <td>0</td>\n",
       "      <td>1.0</td>\n",
       "    </tr>\n",
       "    <tr>\n",
       "      <th>390</th>\n",
       "      <td>ADAMS</td>\n",
       "      <td>Mrs.</td>\n",
       "      <td>Henry (Annie Elizabeth Macnutt)</td>\n",
       "      <td>Saved</td>\n",
       "      <td>46.0</td>\n",
       "      <td>Saloon</td>\n",
       "      <td>Passenger</td>\n",
       "      <td>British</td>\n",
       "      <td>NaN</td>\n",
       "      <td>Married</td>\n",
       "      <td>...</td>\n",
       "      <td>NaN</td>\n",
       "      <td>NaN</td>\n",
       "      <td>1298</td>\n",
       "      <td>B 27</td>\n",
       "      <td>Henry Adams (husband)</td>\n",
       "      <td>1</td>\n",
       "      <td>Adult</td>\n",
       "      <td>Female</td>\n",
       "      <td>1</td>\n",
       "      <td>1.0</td>\n",
       "    </tr>\n",
       "    <tr>\n",
       "      <th>391</th>\n",
       "      <td>ALLAN</td>\n",
       "      <td>Lady</td>\n",
       "      <td>Hugh Montagu (Marguerite Ethel MacKenzie)</td>\n",
       "      <td>Saved</td>\n",
       "      <td>42.0</td>\n",
       "      <td>Saloon</td>\n",
       "      <td>Passenger</td>\n",
       "      <td>British</td>\n",
       "      <td>NaN</td>\n",
       "      <td>Married</td>\n",
       "      <td>...</td>\n",
       "      <td>Westborough (Katrina)</td>\n",
       "      <td>NaN</td>\n",
       "      <td>12933</td>\n",
       "      <td>B 47, B 49 (regal suite and bath)</td>\n",
       "      <td>Anna Allan (daughter), Gwendolyn Allan (daught...</td>\n",
       "      <td>1</td>\n",
       "      <td>Adult</td>\n",
       "      <td>Female</td>\n",
       "      <td>1</td>\n",
       "      <td>1.0</td>\n",
       "    </tr>\n",
       "  </tbody>\n",
       "</table>\n",
       "<p>5 rows × 25 columns</p>\n",
       "</div>"
      ],
      "text/plain": [
       "    Family name Title                              Personal name   Fate   Age  \\\n",
       "387       ADAMS   Mr.                           William McMillan  Saved  19.0   \n",
       "388       ADAMS   Mr.                               Arthur Henry   Lost  46.0   \n",
       "389       ADAMS   Mr.                                      Henry   Lost  58.0   \n",
       "390       ADAMS  Mrs.            Henry (Annie Elizabeth Macnutt)  Saved  46.0   \n",
       "391       ALLAN  Lady  Hugh Montagu (Marguerite Ethel MacKenzie)  Saved  42.0   \n",
       "\n",
       "    Department/Class Passenger/Crew Citizenship Position   Status  ...    \\\n",
       "387           Saloon      Passenger         USA      NaN   Single  ...     \n",
       "388           Saloon      Passenger         USA      NaN  Married  ...     \n",
       "389           Saloon      Passenger     British      NaN  Married  ...     \n",
       "390           Saloon      Passenger     British      NaN  Married  ...     \n",
       "391           Saloon      Passenger     British      NaN  Married  ...     \n",
       "\n",
       "             Rescue Vessel Body No. Ticket No.  \\\n",
       "387                    NaN      NaN      46102   \n",
       "388                    NaN      NaN      46102   \n",
       "389                    NaN      237       1298   \n",
       "390                    NaN      NaN       1298   \n",
       "391  Westborough (Katrina)      NaN      12933   \n",
       "\n",
       "                             Cabin No.  \\\n",
       "387                               D 45   \n",
       "388                               D 37   \n",
       "389                               B 27   \n",
       "390                               B 27   \n",
       "391  B 47, B 49 (regal suite and bath)   \n",
       "\n",
       "                  Traveling Companions and other notes Value Adult/Minor  \\\n",
       "387                              Arthur Adams (father)     1       Adult   \n",
       "388                                William Adams (son)     1       Adult   \n",
       "389                                 Annie Adams (wife)     1       Adult   \n",
       "390                              Henry Adams (husband)     1       Adult   \n",
       "391  Anna Allan (daughter), Gwendolyn Allan (daught...     1       Adult   \n",
       "\n",
       "        Sex Survived pclass  \n",
       "387    Male        1    1.0  \n",
       "388    Male        0    1.0  \n",
       "389    Male        0    1.0  \n",
       "390  Female        1    1.0  \n",
       "391  Female        1    1.0  \n",
       "\n",
       "[5 rows x 25 columns]"
      ]
     },
     "execution_count": 57,
     "metadata": {},
     "output_type": "execute_result"
    }
   ],
   "source": [
    "lusitania_df.loc[(lusitania_df['Department/Class'] == 'Saloon'), 'pclass'] = 1\n",
    "lusitania_df.loc[(lusitania_df['Department/Class'] == 'Second'), 'pclass'] = 2\n",
    "lusitania_df.loc[(lusitania_df['Department/Class'] == 'Third'), 'pclass'] = 3\n",
    "lusitania_df.loc[(lusitania_df['Department/Class'] == 'Third (Distressed British Seaman)'), 'pclass'] = 3\n",
    "lusitania_df.head()"
   ]
  },
  {
   "cell_type": "code",
   "execution_count": 58,
   "metadata": {
    "collapsed": false
   },
   "outputs": [
    {
     "data": {
      "text/plain": [
       "array([ 1.,  2.,  3.])"
      ]
     },
     "execution_count": 58,
     "metadata": {},
     "output_type": "execute_result"
    }
   ],
   "source": [
    "lusitania_df['pclass'].unique()"
   ]
  },
  {
   "cell_type": "markdown",
   "metadata": {},
   "source": [
    "## Lusitania Group Statistics\n",
    "\n",
    "Now that we have cleaned the data and gotten in a form comparable to Titanic, we can compute some group statistics."
   ]
  },
  {
   "cell_type": "code",
   "execution_count": 59,
   "metadata": {
    "collapsed": false
   },
   "outputs": [
    {
     "data": {
      "text/html": [
       "<div>\n",
       "<table border=\"1\" class=\"dataframe\">\n",
       "  <thead>\n",
       "    <tr style=\"text-align: right;\">\n",
       "      <th></th>\n",
       "      <th>Age</th>\n",
       "      <th>Value</th>\n",
       "      <th>Survived</th>\n",
       "      <th>pclass</th>\n",
       "    </tr>\n",
       "  </thead>\n",
       "  <tbody>\n",
       "    <tr>\n",
       "      <th>count</th>\n",
       "      <td>1265.000000</td>\n",
       "      <td>1265.000000</td>\n",
       "      <td>1265.000000</td>\n",
       "      <td>1265.000000</td>\n",
       "    </tr>\n",
       "    <tr>\n",
       "      <th>mean</th>\n",
       "      <td>31.981225</td>\n",
       "      <td>0.999209</td>\n",
       "      <td>0.373913</td>\n",
       "      <td>2.064822</td>\n",
       "    </tr>\n",
       "    <tr>\n",
       "      <th>std</th>\n",
       "      <td>13.821666</td>\n",
       "      <td>0.028116</td>\n",
       "      <td>0.484032</td>\n",
       "      <td>0.721880</td>\n",
       "    </tr>\n",
       "    <tr>\n",
       "      <th>min</th>\n",
       "      <td>1.000000</td>\n",
       "      <td>0.000000</td>\n",
       "      <td>0.000000</td>\n",
       "      <td>1.000000</td>\n",
       "    </tr>\n",
       "    <tr>\n",
       "      <th>25%</th>\n",
       "      <td>26.000000</td>\n",
       "      <td>1.000000</td>\n",
       "      <td>0.000000</td>\n",
       "      <td>2.000000</td>\n",
       "    </tr>\n",
       "    <tr>\n",
       "      <th>50%</th>\n",
       "      <td>32.000000</td>\n",
       "      <td>1.000000</td>\n",
       "      <td>0.000000</td>\n",
       "      <td>2.000000</td>\n",
       "    </tr>\n",
       "    <tr>\n",
       "      <th>75%</th>\n",
       "      <td>39.000000</td>\n",
       "      <td>1.000000</td>\n",
       "      <td>1.000000</td>\n",
       "      <td>3.000000</td>\n",
       "    </tr>\n",
       "    <tr>\n",
       "      <th>max</th>\n",
       "      <td>76.000000</td>\n",
       "      <td>1.000000</td>\n",
       "      <td>1.000000</td>\n",
       "      <td>3.000000</td>\n",
       "    </tr>\n",
       "  </tbody>\n",
       "</table>\n",
       "</div>"
      ],
      "text/plain": [
       "               Age        Value     Survived       pclass\n",
       "count  1265.000000  1265.000000  1265.000000  1265.000000\n",
       "mean     31.981225     0.999209     0.373913     2.064822\n",
       "std      13.821666     0.028116     0.484032     0.721880\n",
       "min       1.000000     0.000000     0.000000     1.000000\n",
       "25%      26.000000     1.000000     0.000000     2.000000\n",
       "50%      32.000000     1.000000     0.000000     2.000000\n",
       "75%      39.000000     1.000000     1.000000     3.000000\n",
       "max      76.000000     1.000000     1.000000     3.000000"
      ]
     },
     "execution_count": 59,
     "metadata": {},
     "output_type": "execute_result"
    }
   ],
   "source": [
    "lusitania_df.describe()"
   ]
  },
  {
   "cell_type": "markdown",
   "metadata": {
    "collapsed": true
   },
   "source": [
    "#### Are there any groups that were especially adversely affected in the Lusitania wreck? (justify your response numerically)"
   ]
  },
  {
   "cell_type": "markdown",
   "metadata": {},
   "source": [
    "Similar to Titanic, we are going to examine survival rates by sex and passenger class.  I would have liked to have also looked at survival rates by age and by size of travelling group, but ran out of time.\n",
    "\n",
    "Overall survival rate for Lusitania passengers was 37% versus 38% for Titanic (equal to mean of Survived column in DataFrame.describe() output above).\n"
   ]
  },
  {
   "cell_type": "markdown",
   "metadata": {},
   "source": [
    "##### Overall Pivot Table for the Cleaned Lusitania Data Set"
   ]
  },
  {
   "cell_type": "code",
   "execution_count": 60,
   "metadata": {
    "collapsed": false
   },
   "outputs": [
    {
     "data": {
      "text/html": [
       "<div>\n",
       "<table border=\"1\" class=\"dataframe\">\n",
       "  <thead>\n",
       "    <tr>\n",
       "      <th></th>\n",
       "      <th></th>\n",
       "      <th colspan=\"2\" halign=\"left\">sum</th>\n",
       "      <th colspan=\"2\" halign=\"left\">mean</th>\n",
       "    </tr>\n",
       "    <tr>\n",
       "      <th></th>\n",
       "      <th></th>\n",
       "      <th>Age</th>\n",
       "      <th>Survived</th>\n",
       "      <th>Age</th>\n",
       "      <th>Survived</th>\n",
       "    </tr>\n",
       "    <tr>\n",
       "      <th>Sex</th>\n",
       "      <th>pclass</th>\n",
       "      <th></th>\n",
       "      <th></th>\n",
       "      <th></th>\n",
       "      <th></th>\n",
       "    </tr>\n",
       "  </thead>\n",
       "  <tbody>\n",
       "    <tr>\n",
       "      <th rowspan=\"3\" valign=\"top\">Female</th>\n",
       "      <th>1.0</th>\n",
       "      <td>3343.00</td>\n",
       "      <td>34.0</td>\n",
       "      <td>36.736264</td>\n",
       "      <td>0.373626</td>\n",
       "    </tr>\n",
       "    <tr>\n",
       "      <th>2.0</th>\n",
       "      <td>8855.00</td>\n",
       "      <td>108.0</td>\n",
       "      <td>30.119048</td>\n",
       "      <td>0.367347</td>\n",
       "    </tr>\n",
       "    <tr>\n",
       "      <th>3.0</th>\n",
       "      <td>3139.50</td>\n",
       "      <td>40.0</td>\n",
       "      <td>29.069444</td>\n",
       "      <td>0.370370</td>\n",
       "    </tr>\n",
       "    <tr>\n",
       "      <th rowspan=\"3\" valign=\"top\">Male</th>\n",
       "      <th>1.0</th>\n",
       "      <td>7944.00</td>\n",
       "      <td>78.0</td>\n",
       "      <td>39.720000</td>\n",
       "      <td>0.390000</td>\n",
       "    </tr>\n",
       "    <tr>\n",
       "      <th>2.0</th>\n",
       "      <td>9163.50</td>\n",
       "      <td>119.0</td>\n",
       "      <td>29.848534</td>\n",
       "      <td>0.387622</td>\n",
       "    </tr>\n",
       "    <tr>\n",
       "      <th>3.0</th>\n",
       "      <td>8011.25</td>\n",
       "      <td>94.0</td>\n",
       "      <td>30.231132</td>\n",
       "      <td>0.354717</td>\n",
       "    </tr>\n",
       "    <tr>\n",
       "      <th>All</th>\n",
       "      <th></th>\n",
       "      <td>40456.25</td>\n",
       "      <td>473.0</td>\n",
       "      <td>31.981225</td>\n",
       "      <td>0.373913</td>\n",
       "    </tr>\n",
       "  </tbody>\n",
       "</table>\n",
       "</div>"
      ],
      "text/plain": [
       "                    sum                mean          \n",
       "                    Age Survived        Age  Survived\n",
       "Sex    pclass                                        \n",
       "Female 1.0      3343.00     34.0  36.736264  0.373626\n",
       "       2.0      8855.00    108.0  30.119048  0.367347\n",
       "       3.0      3139.50     40.0  29.069444  0.370370\n",
       "Male   1.0      7944.00     78.0  39.720000  0.390000\n",
       "       2.0      9163.50    119.0  29.848534  0.387622\n",
       "       3.0      8011.25     94.0  30.231132  0.354717\n",
       "All            40456.25    473.0  31.981225  0.373913"
      ]
     },
     "execution_count": 60,
     "metadata": {},
     "output_type": "execute_result"
    }
   ],
   "source": [
    "lusitania_df.pivot_table(index=['Sex', 'pclass'],\n",
    "                       values=['Age','Survived'],\n",
    "                       aggfunc=[np.sum, np.mean], \n",
    "                       margins=True,\n",
    "                       margins_name='All')"
   ]
  },
  {
   "cell_type": "markdown",
   "metadata": {},
   "source": [
    "##### Comparing Survival Rates by Sex"
   ]
  },
  {
   "cell_type": "code",
   "execution_count": 61,
   "metadata": {
    "collapsed": false
   },
   "outputs": [
    {
     "data": {
      "text/html": [
       "<div>\n",
       "<table border=\"1\" class=\"dataframe\">\n",
       "  <thead>\n",
       "    <tr style=\"text-align: right;\">\n",
       "      <th></th>\n",
       "      <th>mean</th>\n",
       "      <th>std</th>\n",
       "      <th>count_nonzero</th>\n",
       "    </tr>\n",
       "    <tr>\n",
       "      <th>Sex</th>\n",
       "      <th></th>\n",
       "      <th></th>\n",
       "      <th></th>\n",
       "    </tr>\n",
       "  </thead>\n",
       "  <tbody>\n",
       "    <tr>\n",
       "      <th>Female</th>\n",
       "      <td>0.369168</td>\n",
       "      <td>0.483070</td>\n",
       "      <td>182.0</td>\n",
       "    </tr>\n",
       "    <tr>\n",
       "      <th>Male</th>\n",
       "      <td>0.376943</td>\n",
       "      <td>0.484935</td>\n",
       "      <td>291.0</td>\n",
       "    </tr>\n",
       "    <tr>\n",
       "      <th>All</th>\n",
       "      <td>0.373913</td>\n",
       "      <td>0.483841</td>\n",
       "      <td>473.0</td>\n",
       "    </tr>\n",
       "  </tbody>\n",
       "</table>\n",
       "</div>"
      ],
      "text/plain": [
       "            mean       std  count_nonzero\n",
       "Sex                                      \n",
       "Female  0.369168  0.483070          182.0\n",
       "Male    0.376943  0.484935          291.0\n",
       "All     0.373913  0.483841          473.0"
      ]
     },
     "execution_count": 61,
     "metadata": {},
     "output_type": "execute_result"
    }
   ],
   "source": [
    "lusitania_df.pivot_table(index='Sex', \n",
    "                         values='Survived', \n",
    "                         aggfunc=[np.mean, np.std, np.count_nonzero], \n",
    "                         margins=True)"
   ]
  },
  {
   "cell_type": "markdown",
   "metadata": {},
   "source": [
    "Unlike the Titanic, there is was no significant difference in survival rates between men and women on the Lusitania.  This may be explained by the differences in how the ships sank.  The Lusitania was topedoed by a German U-Boat, which meant that it sunk very quickly relative to Titanic, which had time to organize getting women and children to lifeboats."
   ]
  },
  {
   "cell_type": "markdown",
   "metadata": {},
   "source": [
    "##### Are the survival rates between men and women statistically signifcant?"
   ]
  },
  {
   "cell_type": "code",
   "execution_count": 62,
   "metadata": {
    "collapsed": false
   },
   "outputs": [
    {
     "data": {
      "text/html": [
       "<div>\n",
       "<table border=\"1\" class=\"dataframe\">\n",
       "  <thead>\n",
       "    <tr style=\"text-align: right;\">\n",
       "      <th>Sex</th>\n",
       "      <th>Female</th>\n",
       "      <th>Male</th>\n",
       "    </tr>\n",
       "    <tr>\n",
       "      <th>Survived</th>\n",
       "      <th></th>\n",
       "      <th></th>\n",
       "    </tr>\n",
       "  </thead>\n",
       "  <tbody>\n",
       "    <tr>\n",
       "      <th>0</th>\n",
       "      <td>311</td>\n",
       "      <td>481</td>\n",
       "    </tr>\n",
       "    <tr>\n",
       "      <th>1</th>\n",
       "      <td>182</td>\n",
       "      <td>291</td>\n",
       "    </tr>\n",
       "  </tbody>\n",
       "</table>\n",
       "</div>"
      ],
      "text/plain": [
       "Sex       Female  Male\n",
       "Survived              \n",
       "0            311   481\n",
       "1            182   291"
      ]
     },
     "execution_count": 62,
     "metadata": {},
     "output_type": "execute_result"
    }
   ],
   "source": [
    "l_sex_survival_xtab = pd.crosstab(lusitania_df['Survived'], lusitania_df['Sex'])\n",
    "l_sex_survival_xtab"
   ]
  },
  {
   "cell_type": "code",
   "execution_count": 63,
   "metadata": {
    "collapsed": false
   },
   "outputs": [
    {
     "name": "stdout",
     "output_type": "stream",
     "text": [
      "Chi-square:  0.0480226472977\n",
      "\n",
      "p_value:  0.826540445581\n",
      "\n",
      "Degrees of Freedom:  1\n",
      "\n",
      "Expected:  [[ 308.66086957  483.33913043]\n",
      " [ 184.33913043  288.66086957]]\n"
     ]
    }
   ],
   "source": [
    "chisq_value, pvalue_l_sex_survived, df, expected = chi2_contingency(l_sex_survival_xtab)\n",
    "print \"Chi-square: \", chisq_value\n",
    "print \"\"\n",
    "print \"p_value: \", pvalue_l_sex_survived\n",
    "print \"\"\n",
    "print \"Degrees of Freedom: \", df\n",
    "print \"\"\n",
    "print \"Expected: \", expected"
   ]
  },
  {
   "cell_type": "markdown",
   "metadata": {},
   "source": [
    "The probability associated with the Chi-square value of 0.05 is ~83%. So at the 5% significance level, we fail to reject the null hypothesis that survival rates for males and females are the same. This statistically backs up our intuition above when looking at male/female survival rates.  Unlike on the Titanic, there was no advantage in being a women in surviving a ship that sank much faster."
   ]
  },
  {
   "cell_type": "markdown",
   "metadata": {},
   "source": [
    "##### Comparing Survival Rates by Passenger Class (Socioeconomic Status)"
   ]
  },
  {
   "cell_type": "code",
   "execution_count": 64,
   "metadata": {
    "collapsed": false
   },
   "outputs": [
    {
     "data": {
      "text/html": [
       "<div>\n",
       "<table border=\"1\" class=\"dataframe\">\n",
       "  <thead>\n",
       "    <tr style=\"text-align: right;\">\n",
       "      <th></th>\n",
       "      <th>mean</th>\n",
       "      <th>std</th>\n",
       "      <th>count_nonzero</th>\n",
       "    </tr>\n",
       "    <tr>\n",
       "      <th>pclass</th>\n",
       "      <th></th>\n",
       "      <th></th>\n",
       "      <th></th>\n",
       "    </tr>\n",
       "  </thead>\n",
       "  <tbody>\n",
       "    <tr>\n",
       "      <th>1.0</th>\n",
       "      <td>0.384880</td>\n",
       "      <td>0.487405</td>\n",
       "      <td>112.0</td>\n",
       "    </tr>\n",
       "    <tr>\n",
       "      <th>2.0</th>\n",
       "      <td>0.377704</td>\n",
       "      <td>0.485217</td>\n",
       "      <td>227.0</td>\n",
       "    </tr>\n",
       "    <tr>\n",
       "      <th>3.0</th>\n",
       "      <td>0.359249</td>\n",
       "      <td>0.480425</td>\n",
       "      <td>134.0</td>\n",
       "    </tr>\n",
       "    <tr>\n",
       "      <th>All</th>\n",
       "      <td>0.373913</td>\n",
       "      <td>0.483841</td>\n",
       "      <td>473.0</td>\n",
       "    </tr>\n",
       "  </tbody>\n",
       "</table>\n",
       "</div>"
      ],
      "text/plain": [
       "            mean       std  count_nonzero\n",
       "pclass                                   \n",
       "1.0     0.384880  0.487405          112.0\n",
       "2.0     0.377704  0.485217          227.0\n",
       "3.0     0.359249  0.480425          134.0\n",
       "All     0.373913  0.483841          473.0"
      ]
     },
     "execution_count": 64,
     "metadata": {},
     "output_type": "execute_result"
    }
   ],
   "source": [
    "lusitania_df.pivot_table(index='pclass', \n",
    "                         values='Survived', \n",
    "                         aggfunc=[np.mean, np.std, np.count_nonzero], \n",
    "                         margins=True)"
   ]
  },
  {
   "cell_type": "markdown",
   "metadata": {},
   "source": [
    "Similar to male/female survival rate analysis above and in contrast to the the Titanic, there is was no significant difference in survival rates between socioeconomic classes.  Again, this may be explained by the circumstances in how the ships sank.  "
   ]
  },
  {
   "cell_type": "markdown",
   "metadata": {},
   "source": [
    "##### Are the Survival Rates between Passenger Class Statistically Significant?"
   ]
  },
  {
   "cell_type": "code",
   "execution_count": 65,
   "metadata": {
    "collapsed": false
   },
   "outputs": [
    {
     "data": {
      "text/html": [
       "<div>\n",
       "<table border=\"1\" class=\"dataframe\">\n",
       "  <thead>\n",
       "    <tr style=\"text-align: right;\">\n",
       "      <th>pclass</th>\n",
       "      <th>1.0</th>\n",
       "      <th>2.0</th>\n",
       "      <th>3.0</th>\n",
       "    </tr>\n",
       "    <tr>\n",
       "      <th>Survived</th>\n",
       "      <th></th>\n",
       "      <th></th>\n",
       "      <th></th>\n",
       "    </tr>\n",
       "  </thead>\n",
       "  <tbody>\n",
       "    <tr>\n",
       "      <th>0</th>\n",
       "      <td>179</td>\n",
       "      <td>374</td>\n",
       "      <td>239</td>\n",
       "    </tr>\n",
       "    <tr>\n",
       "      <th>1</th>\n",
       "      <td>112</td>\n",
       "      <td>227</td>\n",
       "      <td>134</td>\n",
       "    </tr>\n",
       "  </tbody>\n",
       "</table>\n",
       "</div>"
      ],
      "text/plain": [
       "pclass    1.0  2.0  3.0\n",
       "Survived               \n",
       "0         179  374  239\n",
       "1         112  227  134"
      ]
     },
     "execution_count": 65,
     "metadata": {},
     "output_type": "execute_result"
    }
   ],
   "source": [
    "l_pclass_survival_xtab = pd.crosstab(lusitania_df['Survived'], lusitania_df['pclass'])\n",
    "l_pclass_survival_xtab"
   ]
  },
  {
   "cell_type": "code",
   "execution_count": 66,
   "metadata": {
    "collapsed": false
   },
   "outputs": [
    {
     "name": "stdout",
     "output_type": "stream",
     "text": [
      "Chi-square:  0.528993809855\n",
      "\n",
      "p_value:  0.767592024617\n",
      "\n",
      "Degrees of Freedom:  2\n",
      "\n",
      "Expected:  [[ 182.19130435  376.27826087  233.53043478]\n",
      " [ 108.80869565  224.72173913  139.46956522]]\n"
     ]
    }
   ],
   "source": [
    "chisq_value, pvalue_l_pclass_survived, df, expected = chi2_contingency(l_pclass_survival_xtab)\n",
    "print \"Chi-square: \", chisq_value\n",
    "print \"\"\n",
    "print \"p_value: \", pvalue_l_pclass_survived\n",
    "print \"\"\n",
    "print \"Degrees of Freedom: \", df\n",
    "print \"\"\n",
    "print \"Expected: \", expected"
   ]
  },
  {
   "cell_type": "markdown",
   "metadata": {},
   "source": [
    "The probability associated with the Chi-square value of 0.53 is ~77%. So at the 5% significance level, we fail to reject the null hypothesis that survival rates between passenger classes are the same. This statistically backs up our intuition discussed above."
   ]
  },
  {
   "cell_type": "markdown",
   "metadata": {
    "collapsed": true
   },
   "source": [
    "#### Are there any groups that outperformed the survival of the latter group? (justify your response numerically)\n",
    "\n"
   ]
  },
  {
   "cell_type": "markdown",
   "metadata": {
    "collapsed": true
   },
   "source": [
    "See above for numerical response.  Unlike on the Titanic, being a woman and/or having greater socioeconomic status did not improve one's survival rate on the Lusitania."
   ]
  },
  {
   "cell_type": "markdown",
   "metadata": {},
   "source": [
    "#### What does the group-wise survival rate imply about circumstances during these two accidents?"
   ]
  },
  {
   "cell_type": "markdown",
   "metadata": {
    "collapsed": true
   },
   "source": [
    "As touched on above, the differences in how fast the Lusitania and Titanic sank explains differences in group-wise survival rates between the two accidents.  Lusitania sank in 18 minutes versus 2 hours and 40 minutes for Titanic.  The Luisitania had no time to prioritize getting women and children to safety, whereas Titanic was able to get a signifant proportion of these groups off in lifeboats.\n",
    "\n",
    "The quick sinking of the Lusitania also explains why there was no difference in survival rates amongst passenger classes (our proxy for socioeconomic status).  It was an every man for himself situation on the Lusitania, whereas on the Titanic, men with wealth had time to use it (presumeably by bribing their way onto a lifeboat or locking steerage passengers below deck to improve their chances at the lifeboats as depicted in the movie.\n",
    "\n",
    "I did not have time to dig into it, but if you looked deeper into survival rates by age on the Lusitania, I suspect that there would not be much variation in survival rates between age groups given how quickly the ship sank.  At least on the Titanic, there was a meaningful difference in survival rates between children and adults (I suspect this was difference is statistically different, but had no time to modify the Titanic data frame to create an 'Child/Adult' column where Child represents passengers less than 15 years old and run a Chi-squared test to confirm).\n",
    "\n",
    "What is interesting is that despite the differences in sinking time, the overall survival rate for both disasters was nearly the same (37-38%).  That either speaks to the heroism of the Lusitania crew and/or ineptness of the Titanic's.  One other explanation could be the location of the accidents.  The Lusitania sank off the coast of Ireland versus the North Atlantic for Titanic.  Perhaps the Lusitania passengers who fell into the water had a higher chance of survival given the differences in water temperature.\n",
    "\n",
    "\n",
    "\n"
   ]
  }
 ],
 "metadata": {
  "anaconda-cloud": {},
  "kernelspec": {
   "display_name": "Python [conda root]",
   "language": "python",
   "name": "conda-root-py"
  },
  "language_info": {
   "codemirror_mode": {
    "name": "ipython",
    "version": 2
   },
   "file_extension": ".py",
   "mimetype": "text/x-python",
   "name": "python",
   "nbconvert_exporter": "python",
   "pygments_lexer": "ipython2",
   "version": "2.7.12"
  }
 },
 "nbformat": 4,
 "nbformat_minor": 0
}
